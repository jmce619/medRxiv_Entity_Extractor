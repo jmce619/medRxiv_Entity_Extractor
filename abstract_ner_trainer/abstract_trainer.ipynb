{
 "cells": [
  {
   "cell_type": "code",
   "execution_count": 2,
   "id": "543f0eb2",
   "metadata": {},
   "outputs": [],
   "source": [
    "import json\n",
    "import spacy \n",
    "from pathlib import Path\n"
   ]
  },
  {
   "cell_type": "code",
   "execution_count": 5,
   "id": "acf37406",
   "metadata": {},
   "outputs": [],
   "source": [
    "f = open('./annotations.json')\n",
    "annot = json.load(f)"
   ]
  },
  {
   "cell_type": "code",
   "execution_count": 10,
   "id": "36d2efd0",
   "metadata": {},
   "outputs": [
    {
     "data": {
      "text/plain": [
       "11"
      ]
     },
     "execution_count": 10,
     "metadata": {},
     "output_type": "execute_result"
    }
   ],
   "source": [
    "len(annot['annotations'])"
   ]
  },
  {
   "cell_type": "code",
   "execution_count": 11,
   "id": "c242b239",
   "metadata": {},
   "outputs": [],
   "source": [
    "list_data = annot['annotations']"
   ]
  },
  {
   "cell_type": "code",
   "execution_count": 12,
   "id": "0d00ba5f",
   "metadata": {},
   "outputs": [],
   "source": [
    "train_data = []\n",
    "for i in list_data:\n",
    "    \n",
    "    try:\n",
    "        str1 = i[0]\n",
    "        ent1 = i[1]\n",
    "        train_data.append((str1,ent1))\n",
    "        \n",
    "    except Exception as e:\n",
    "        print('error',e)"
   ]
  },
  {
   "cell_type": "code",
   "execution_count": 15,
   "id": "c852b505",
   "metadata": {},
   "outputs": [],
   "source": [
    "def create_spans(input_doc):\n",
    "    span_list = []\n",
    "    #print('Entities', [(ent.text, ent.label_) for ent in doc.ents])\n",
    "    for i in input_doc.ents:\n",
    "        print(i)\n",
    "        span_list.append(Span(input_doc,i.start,i.end,i.label))\n",
    "    return span_list"
   ]
  },
  {
   "cell_type": "code",
   "execution_count": 13,
   "id": "4b83cc74",
   "metadata": {},
   "outputs": [
    {
     "name": "stdout",
     "output_type": "stream",
     "text": [
      "Created blank 'en' model\n"
     ]
    }
   ],
   "source": [
    "model = None\n",
    "output_dir='./meta.json'\n",
    "n_iter=110\n",
    "\n",
    "if model is not None:\n",
    "    nlp = spacy.load(model)  \n",
    "    print(\"Loaded model '%s'\" % model)\n",
    "else:\n",
    "    nlp = spacy.blank('en')  \n",
    "    print(\"Created blank 'en' model\")\n",
    "\n",
    "\n",
    "       \n",
    "       \n"
   ]
  },
  {
   "cell_type": "code",
   "execution_count": 14,
   "id": "a0c79e22",
   "metadata": {},
   "outputs": [],
   "source": [
    "#set up the pipeline\n",
    "\n",
    "if 'ner' not in nlp.pipe_names:\n",
    "    ner = nlp.create_pipe('ner')\n",
    "    nlp.add_pipe('ner', last=True)\n",
    "else:\n",
    "    ner = nlp.get_pipe('ner')\n",
    "\n",
    "for _, annotations in train_data:\n",
    "    for ent in annotations.get('entities'):\n",
    "        ner.add_label(ent[2])"
   ]
  },
  {
   "cell_type": "code",
   "execution_count": null,
   "id": "c674110f",
   "metadata": {},
   "outputs": [],
   "source": [
    "other_pipes = [pipe for pipe in nlp.pipe_names if pipe != 'ner']\n",
    "with nlp.disable_pipes(*other_pipes):  # only train NER\n",
    "    optimizer = nlp.begin_training()\n",
    "    for itn in range(n_iter):\n",
    "        random.shuffle(train_data)\n",
    "        losses = {}\n",
    "        for text, annotations in tqdm(train_data):\n",
    "            doc = nlp.make_doc(text)\n",
    "            example = Example.from_dict(doc, annotations)\n",
    "            nlp.update(\n",
    "                [example],  \n",
    "                drop=0.5,  \n",
    "                sgd=optimizer,\n",
    "                losses=losses)\n",
    "        print(itn,losses)"
   ]
  }
 ],
 "metadata": {
  "kernelspec": {
   "display_name": "Python 3 (ipykernel)",
   "language": "python",
   "name": "python3"
  },
  "language_info": {
   "codemirror_mode": {
    "name": "ipython",
    "version": 3
   },
   "file_extension": ".py",
   "mimetype": "text/x-python",
   "name": "python",
   "nbconvert_exporter": "python",
   "pygments_lexer": "ipython3",
   "version": "3.11.1"
  }
 },
 "nbformat": 4,
 "nbformat_minor": 5
}
