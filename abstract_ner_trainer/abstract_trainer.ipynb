{
 "cells": [
  {
   "cell_type": "code",
   "execution_count": 33,
   "id": "836eead4",
   "metadata": {},
   "outputs": [],
   "source": [
    "import json\n",
    "import spacy \n",
    "from pathlib import Path\n",
    "import random\n",
    "from tqdm import tqdm\n",
    "from spacy.training import Example\n",
    "from spacy import displacy\n",
    "from spacy.tokens import Span"
   ]
  },
  {
   "cell_type": "code",
   "execution_count": 64,
   "id": "3ce814b4",
   "metadata": {},
   "outputs": [],
   "source": [
    "f = open('./annotations.json')\n",
    "annot = json.load(f)"
   ]
  },
  {
   "cell_type": "code",
   "execution_count": 65,
   "id": "6197cbb3",
   "metadata": {},
   "outputs": [
    {
     "data": {
      "text/plain": [
       "23"
      ]
     },
     "execution_count": 65,
     "metadata": {},
     "output_type": "execute_result"
    }
   ],
   "source": [
    "len(annot['annotations'])"
   ]
  },
  {
   "cell_type": "code",
   "execution_count": 66,
   "id": "fa9b2c10",
   "metadata": {},
   "outputs": [],
   "source": [
    "list_data = annot['annotations']"
   ]
  },
  {
   "cell_type": "code",
   "execution_count": 67,
   "id": "9a9a8f57",
   "metadata": {},
   "outputs": [],
   "source": [
    "train_data = []\n",
    "for i in list_data:\n",
    "    \n",
    "    try:\n",
    "        str1 = i[0]\n",
    "        ent1 = i[1]\n",
    "        train_data.append((str1,ent1))\n",
    "        \n",
    "    except Exception as e:\n",
    "        print('error',e)"
   ]
  },
  {
   "cell_type": "code",
   "execution_count": 68,
   "id": "32ca4ddd",
   "metadata": {},
   "outputs": [],
   "source": [
    "def create_spans(input_doc):\n",
    "    span_list = []\n",
    "    #print('Entities', [(ent.text, ent.label_) for ent in doc.ents])\n",
    "    for i in input_doc.ents:\n",
    "        print(i)\n",
    "        span_list.append(Span(input_doc,i.start,i.end,i.label))\n",
    "    return span_list"
   ]
  },
  {
   "cell_type": "code",
   "execution_count": 69,
   "id": "d235c80c",
   "metadata": {},
   "outputs": [
    {
     "data": {
      "text/plain": [
       "23"
      ]
     },
     "execution_count": 69,
     "metadata": {},
     "output_type": "execute_result"
    }
   ],
   "source": [
    "len(train_data)"
   ]
  },
  {
   "cell_type": "code",
   "execution_count": 91,
   "id": "eae7a556",
   "metadata": {},
   "outputs": [
    {
     "name": "stdout",
     "output_type": "stream",
     "text": [
      "Created blank 'en' model\n"
     ]
    }
   ],
   "source": [
    "model = None\n",
    "output_dir='./model'\n",
    "n_iter=90\n",
    "\n",
    "if model is not None:\n",
    "    nlp = spacy.load(model)  \n",
    "    print(\"Loaded model '%s'\" % model)\n",
    "else:\n",
    "    nlp = spacy.blank('en')  \n",
    "    print(\"Created blank 'en' model\")\n",
    "\n",
    "\n",
    "       \n",
    "       \n"
   ]
  },
  {
   "cell_type": "code",
   "execution_count": 71,
   "id": "50adee51",
   "metadata": {},
   "outputs": [],
   "source": [
    "#set up the pipeline\n",
    "\n",
    "if 'ner' not in nlp.pipe_names:\n",
    "    ner = nlp.create_pipe('ner')\n",
    "    nlp.add_pipe('ner', last=True)\n",
    "else:\n",
    "    ner = nlp.get_pipe('ner')\n",
    "\n",
    "for _, annotations in train_data:\n",
    "    for ent in annotations.get('entities'):\n",
    "        ner.add_label(ent[2])"
   ]
  },
  {
   "cell_type": "code",
   "execution_count": 72,
   "id": "3fd2eb51",
   "metadata": {},
   "outputs": [
    {
     "name": "stderr",
     "output_type": "stream",
     "text": [
      "100%|███████████████████████████████████████████| 23/23 [00:01<00:00, 14.29it/s]\n"
     ]
    },
    {
     "name": "stdout",
     "output_type": "stream",
     "text": [
      "0 {'ner': 4280.416749061827}\n"
     ]
    },
    {
     "name": "stderr",
     "output_type": "stream",
     "text": [
      "100%|███████████████████████████████████████████| 23/23 [00:01<00:00, 14.14it/s]\n"
     ]
    },
    {
     "name": "stdout",
     "output_type": "stream",
     "text": [
      "1 {'ner': 1528.8181354465778}\n"
     ]
    },
    {
     "name": "stderr",
     "output_type": "stream",
     "text": [
      "100%|███████████████████████████████████████████| 23/23 [00:01<00:00, 15.29it/s]\n"
     ]
    },
    {
     "name": "stdout",
     "output_type": "stream",
     "text": [
      "2 {'ner': 1325.8973755250554}\n"
     ]
    },
    {
     "name": "stderr",
     "output_type": "stream",
     "text": [
      "100%|███████████████████████████████████████████| 23/23 [00:01<00:00, 14.18it/s]\n"
     ]
    },
    {
     "name": "stdout",
     "output_type": "stream",
     "text": [
      "3 {'ner': 1388.7482476625396}\n"
     ]
    },
    {
     "name": "stderr",
     "output_type": "stream",
     "text": [
      "100%|███████████████████████████████████████████| 23/23 [00:01<00:00, 14.24it/s]\n"
     ]
    },
    {
     "name": "stdout",
     "output_type": "stream",
     "text": [
      "4 {'ner': 1175.6704607899583}\n"
     ]
    },
    {
     "name": "stderr",
     "output_type": "stream",
     "text": [
      "100%|███████████████████████████████████████████| 23/23 [00:01<00:00, 14.58it/s]\n"
     ]
    },
    {
     "name": "stdout",
     "output_type": "stream",
     "text": [
      "5 {'ner': 1122.7350024600569}\n"
     ]
    },
    {
     "name": "stderr",
     "output_type": "stream",
     "text": [
      "100%|███████████████████████████████████████████| 23/23 [00:01<00:00, 15.05it/s]\n"
     ]
    },
    {
     "name": "stdout",
     "output_type": "stream",
     "text": [
      "6 {'ner': 1295.8445348050518}\n"
     ]
    },
    {
     "name": "stderr",
     "output_type": "stream",
     "text": [
      "100%|███████████████████████████████████████████| 23/23 [00:01<00:00, 14.91it/s]\n"
     ]
    },
    {
     "name": "stdout",
     "output_type": "stream",
     "text": [
      "7 {'ner': 1702.4084414137817}\n"
     ]
    },
    {
     "name": "stderr",
     "output_type": "stream",
     "text": [
      "100%|███████████████████████████████████████████| 23/23 [00:01<00:00, 15.25it/s]\n"
     ]
    },
    {
     "name": "stdout",
     "output_type": "stream",
     "text": [
      "8 {'ner': 857.1313202895486}\n"
     ]
    },
    {
     "name": "stderr",
     "output_type": "stream",
     "text": [
      "100%|███████████████████████████████████████████| 23/23 [00:01<00:00, 15.03it/s]\n"
     ]
    },
    {
     "name": "stdout",
     "output_type": "stream",
     "text": [
      "9 {'ner': 921.3260539663268}\n"
     ]
    },
    {
     "name": "stderr",
     "output_type": "stream",
     "text": [
      "100%|███████████████████████████████████████████| 23/23 [00:01<00:00, 15.21it/s]\n"
     ]
    },
    {
     "name": "stdout",
     "output_type": "stream",
     "text": [
      "10 {'ner': 1566.8481826191273}\n"
     ]
    },
    {
     "name": "stderr",
     "output_type": "stream",
     "text": [
      "100%|███████████████████████████████████████████| 23/23 [00:01<00:00, 14.95it/s]\n"
     ]
    },
    {
     "name": "stdout",
     "output_type": "stream",
     "text": [
      "11 {'ner': 1269.620575374105}\n"
     ]
    },
    {
     "name": "stderr",
     "output_type": "stream",
     "text": [
      "100%|███████████████████████████████████████████| 23/23 [00:01<00:00, 16.59it/s]\n"
     ]
    },
    {
     "name": "stdout",
     "output_type": "stream",
     "text": [
      "12 {'ner': 1394.3624861464427}\n"
     ]
    },
    {
     "name": "stderr",
     "output_type": "stream",
     "text": [
      "100%|███████████████████████████████████████████| 23/23 [00:01<00:00, 14.58it/s]\n"
     ]
    },
    {
     "name": "stdout",
     "output_type": "stream",
     "text": [
      "13 {'ner': 1125.0989040308089}\n"
     ]
    },
    {
     "name": "stderr",
     "output_type": "stream",
     "text": [
      "100%|███████████████████████████████████████████| 23/23 [00:01<00:00, 14.98it/s]\n"
     ]
    },
    {
     "name": "stdout",
     "output_type": "stream",
     "text": [
      "14 {'ner': 1108.3114962458858}\n"
     ]
    },
    {
     "name": "stderr",
     "output_type": "stream",
     "text": [
      "100%|███████████████████████████████████████████| 23/23 [00:01<00:00, 15.08it/s]\n"
     ]
    },
    {
     "name": "stdout",
     "output_type": "stream",
     "text": [
      "15 {'ner': 1312.0650160672228}\n"
     ]
    },
    {
     "name": "stderr",
     "output_type": "stream",
     "text": [
      "100%|███████████████████████████████████████████| 23/23 [00:01<00:00, 14.45it/s]\n"
     ]
    },
    {
     "name": "stdout",
     "output_type": "stream",
     "text": [
      "16 {'ner': 1149.4218484473217}\n"
     ]
    },
    {
     "name": "stderr",
     "output_type": "stream",
     "text": [
      "100%|███████████████████████████████████████████| 23/23 [00:01<00:00, 14.44it/s]\n"
     ]
    },
    {
     "name": "stdout",
     "output_type": "stream",
     "text": [
      "17 {'ner': 1321.829134726852}\n"
     ]
    },
    {
     "name": "stderr",
     "output_type": "stream",
     "text": [
      "100%|███████████████████████████████████████████| 23/23 [00:01<00:00, 15.49it/s]\n"
     ]
    },
    {
     "name": "stdout",
     "output_type": "stream",
     "text": [
      "18 {'ner': 948.1703343288285}\n"
     ]
    },
    {
     "name": "stderr",
     "output_type": "stream",
     "text": [
      "100%|███████████████████████████████████████████| 23/23 [00:01<00:00, 14.72it/s]\n"
     ]
    },
    {
     "name": "stdout",
     "output_type": "stream",
     "text": [
      "19 {'ner': 900.3557896508801}\n"
     ]
    },
    {
     "name": "stderr",
     "output_type": "stream",
     "text": [
      "100%|███████████████████████████████████████████| 23/23 [00:01<00:00, 14.69it/s]\n"
     ]
    },
    {
     "name": "stdout",
     "output_type": "stream",
     "text": [
      "20 {'ner': 858.8046825074819}\n"
     ]
    },
    {
     "name": "stderr",
     "output_type": "stream",
     "text": [
      "100%|███████████████████████████████████████████| 23/23 [00:01<00:00, 15.85it/s]\n"
     ]
    },
    {
     "name": "stdout",
     "output_type": "stream",
     "text": [
      "21 {'ner': 1089.461371070144}\n"
     ]
    },
    {
     "name": "stderr",
     "output_type": "stream",
     "text": [
      "100%|███████████████████████████████████████████| 23/23 [00:01<00:00, 14.99it/s]\n"
     ]
    },
    {
     "name": "stdout",
     "output_type": "stream",
     "text": [
      "22 {'ner': 1161.484621343986}\n"
     ]
    },
    {
     "name": "stderr",
     "output_type": "stream",
     "text": [
      "100%|███████████████████████████████████████████| 23/23 [00:01<00:00, 14.32it/s]\n"
     ]
    },
    {
     "name": "stdout",
     "output_type": "stream",
     "text": [
      "23 {'ner': 936.9967349607707}\n"
     ]
    },
    {
     "name": "stderr",
     "output_type": "stream",
     "text": [
      "100%|███████████████████████████████████████████| 23/23 [00:01<00:00, 14.40it/s]\n"
     ]
    },
    {
     "name": "stdout",
     "output_type": "stream",
     "text": [
      "24 {'ner': 1195.315802773862}\n"
     ]
    },
    {
     "name": "stderr",
     "output_type": "stream",
     "text": [
      "100%|███████████████████████████████████████████| 23/23 [00:01<00:00, 14.51it/s]\n"
     ]
    },
    {
     "name": "stdout",
     "output_type": "stream",
     "text": [
      "25 {'ner': 803.530311003771}\n"
     ]
    },
    {
     "name": "stderr",
     "output_type": "stream",
     "text": [
      "100%|███████████████████████████████████████████| 23/23 [00:01<00:00, 14.90it/s]\n"
     ]
    },
    {
     "name": "stdout",
     "output_type": "stream",
     "text": [
      "26 {'ner': 1111.57589508563}\n"
     ]
    },
    {
     "name": "stderr",
     "output_type": "stream",
     "text": [
      "100%|███████████████████████████████████████████| 23/23 [00:01<00:00, 15.84it/s]\n"
     ]
    },
    {
     "name": "stdout",
     "output_type": "stream",
     "text": [
      "27 {'ner': 990.3505630945086}\n"
     ]
    },
    {
     "name": "stderr",
     "output_type": "stream",
     "text": [
      "100%|███████████████████████████████████████████| 23/23 [00:01<00:00, 14.16it/s]\n"
     ]
    },
    {
     "name": "stdout",
     "output_type": "stream",
     "text": [
      "28 {'ner': 714.9083732615652}\n"
     ]
    },
    {
     "name": "stderr",
     "output_type": "stream",
     "text": [
      "100%|███████████████████████████████████████████| 23/23 [00:01<00:00, 14.72it/s]\n"
     ]
    },
    {
     "name": "stdout",
     "output_type": "stream",
     "text": [
      "29 {'ner': 670.7936115768723}\n"
     ]
    },
    {
     "name": "stderr",
     "output_type": "stream",
     "text": [
      "100%|███████████████████████████████████████████| 23/23 [00:01<00:00, 13.58it/s]\n"
     ]
    },
    {
     "name": "stdout",
     "output_type": "stream",
     "text": [
      "30 {'ner': 1123.9862441203666}\n"
     ]
    },
    {
     "name": "stderr",
     "output_type": "stream",
     "text": [
      "100%|███████████████████████████████████████████| 23/23 [00:01<00:00, 15.40it/s]\n"
     ]
    },
    {
     "name": "stdout",
     "output_type": "stream",
     "text": [
      "31 {'ner': 677.931933227035}\n"
     ]
    },
    {
     "name": "stderr",
     "output_type": "stream",
     "text": [
      "100%|███████████████████████████████████████████| 23/23 [00:01<00:00, 14.80it/s]\n"
     ]
    },
    {
     "name": "stdout",
     "output_type": "stream",
     "text": [
      "32 {'ner': 583.7488129820279}\n"
     ]
    },
    {
     "name": "stderr",
     "output_type": "stream",
     "text": [
      "100%|███████████████████████████████████████████| 23/23 [00:01<00:00, 14.03it/s]\n"
     ]
    },
    {
     "name": "stdout",
     "output_type": "stream",
     "text": [
      "33 {'ner': 781.0867239538711}\n"
     ]
    },
    {
     "name": "stderr",
     "output_type": "stream",
     "text": [
      "100%|███████████████████████████████████████████| 23/23 [00:01<00:00, 14.52it/s]\n"
     ]
    },
    {
     "name": "stdout",
     "output_type": "stream",
     "text": [
      "34 {'ner': 624.8105961228814}\n"
     ]
    },
    {
     "name": "stderr",
     "output_type": "stream",
     "text": [
      "100%|███████████████████████████████████████████| 23/23 [00:01<00:00, 14.96it/s]\n"
     ]
    },
    {
     "name": "stdout",
     "output_type": "stream",
     "text": [
      "35 {'ner': 733.3919205755974}\n"
     ]
    },
    {
     "name": "stderr",
     "output_type": "stream",
     "text": [
      "100%|███████████████████████████████████████████| 23/23 [00:01<00:00, 14.51it/s]\n"
     ]
    },
    {
     "name": "stdout",
     "output_type": "stream",
     "text": [
      "36 {'ner': 629.2392683653884}\n"
     ]
    },
    {
     "name": "stderr",
     "output_type": "stream",
     "text": [
      "100%|███████████████████████████████████████████| 23/23 [00:01<00:00, 14.24it/s]\n"
     ]
    },
    {
     "name": "stdout",
     "output_type": "stream",
     "text": [
      "37 {'ner': 594.3475546215533}\n"
     ]
    },
    {
     "name": "stderr",
     "output_type": "stream",
     "text": [
      "100%|███████████████████████████████████████████| 23/23 [00:01<00:00, 14.49it/s]\n"
     ]
    },
    {
     "name": "stdout",
     "output_type": "stream",
     "text": [
      "38 {'ner': 520.5910923383568}\n"
     ]
    },
    {
     "name": "stderr",
     "output_type": "stream",
     "text": [
      "100%|███████████████████████████████████████████| 23/23 [00:01<00:00, 14.18it/s]\n"
     ]
    },
    {
     "name": "stdout",
     "output_type": "stream",
     "text": [
      "39 {'ner': 604.353280100827}\n"
     ]
    },
    {
     "name": "stderr",
     "output_type": "stream",
     "text": [
      "100%|███████████████████████████████████████████| 23/23 [00:01<00:00, 13.98it/s]\n"
     ]
    },
    {
     "name": "stdout",
     "output_type": "stream",
     "text": [
      "40 {'ner': 675.4011505873307}\n"
     ]
    },
    {
     "name": "stderr",
     "output_type": "stream",
     "text": [
      "100%|███████████████████████████████████████████| 23/23 [00:01<00:00, 13.10it/s]\n"
     ]
    },
    {
     "name": "stdout",
     "output_type": "stream",
     "text": [
      "41 {'ner': 655.6478544298361}\n"
     ]
    },
    {
     "name": "stderr",
     "output_type": "stream",
     "text": [
      "100%|███████████████████████████████████████████| 23/23 [00:01<00:00, 14.54it/s]\n"
     ]
    },
    {
     "name": "stdout",
     "output_type": "stream",
     "text": [
      "42 {'ner': 535.3487035056667}\n"
     ]
    },
    {
     "name": "stderr",
     "output_type": "stream",
     "text": [
      "100%|███████████████████████████████████████████| 23/23 [00:01<00:00, 13.53it/s]\n"
     ]
    },
    {
     "name": "stdout",
     "output_type": "stream",
     "text": [
      "43 {'ner': 516.6815494667466}\n"
     ]
    },
    {
     "name": "stderr",
     "output_type": "stream",
     "text": [
      "100%|███████████████████████████████████████████| 23/23 [00:01<00:00, 15.34it/s]\n"
     ]
    },
    {
     "name": "stdout",
     "output_type": "stream",
     "text": [
      "44 {'ner': 489.72099458091867}\n"
     ]
    },
    {
     "name": "stderr",
     "output_type": "stream",
     "text": [
      "100%|███████████████████████████████████████████| 23/23 [00:01<00:00, 14.54it/s]\n"
     ]
    },
    {
     "name": "stdout",
     "output_type": "stream",
     "text": [
      "45 {'ner': 506.38254639567464}\n"
     ]
    },
    {
     "name": "stderr",
     "output_type": "stream",
     "text": [
      "100%|███████████████████████████████████████████| 23/23 [00:01<00:00, 15.41it/s]\n"
     ]
    },
    {
     "name": "stdout",
     "output_type": "stream",
     "text": [
      "46 {'ner': 691.8057524951703}\n"
     ]
    },
    {
     "name": "stderr",
     "output_type": "stream",
     "text": [
      "100%|███████████████████████████████████████████| 23/23 [00:01<00:00, 14.31it/s]\n"
     ]
    },
    {
     "name": "stdout",
     "output_type": "stream",
     "text": [
      "47 {'ner': 698.2671967167216}\n"
     ]
    },
    {
     "name": "stderr",
     "output_type": "stream",
     "text": [
      "100%|███████████████████████████████████████████| 23/23 [00:01<00:00, 13.90it/s]\n"
     ]
    },
    {
     "name": "stdout",
     "output_type": "stream",
     "text": [
      "48 {'ner': 502.9101328870288}\n"
     ]
    },
    {
     "name": "stderr",
     "output_type": "stream",
     "text": [
      "100%|███████████████████████████████████████████| 23/23 [00:01<00:00, 14.57it/s]\n"
     ]
    },
    {
     "name": "stdout",
     "output_type": "stream",
     "text": [
      "49 {'ner': 489.1539663927634}\n"
     ]
    },
    {
     "name": "stderr",
     "output_type": "stream",
     "text": [
      "100%|███████████████████████████████████████████| 23/23 [00:01<00:00, 14.16it/s]\n"
     ]
    },
    {
     "name": "stdout",
     "output_type": "stream",
     "text": [
      "50 {'ner': 421.26288869146396}\n"
     ]
    },
    {
     "name": "stderr",
     "output_type": "stream",
     "text": [
      "100%|███████████████████████████████████████████| 23/23 [00:01<00:00, 13.90it/s]\n"
     ]
    },
    {
     "name": "stdout",
     "output_type": "stream",
     "text": [
      "51 {'ner': 505.7665525653675}\n"
     ]
    },
    {
     "name": "stderr",
     "output_type": "stream",
     "text": [
      "100%|███████████████████████████████████████████| 23/23 [00:01<00:00, 13.25it/s]\n"
     ]
    },
    {
     "name": "stdout",
     "output_type": "stream",
     "text": [
      "52 {'ner': 430.71300768403944}\n"
     ]
    },
    {
     "name": "stderr",
     "output_type": "stream",
     "text": [
      "100%|███████████████████████████████████████████| 23/23 [00:01<00:00, 14.02it/s]\n"
     ]
    },
    {
     "name": "stdout",
     "output_type": "stream",
     "text": [
      "53 {'ner': 461.0345131203519}\n"
     ]
    },
    {
     "name": "stderr",
     "output_type": "stream",
     "text": [
      "100%|███████████████████████████████████████████| 23/23 [00:02<00:00, 10.46it/s]\n"
     ]
    },
    {
     "name": "stdout",
     "output_type": "stream",
     "text": [
      "54 {'ner': 578.2334017803789}\n"
     ]
    },
    {
     "name": "stderr",
     "output_type": "stream",
     "text": [
      "100%|███████████████████████████████████████████| 23/23 [00:01<00:00, 13.52it/s]\n"
     ]
    },
    {
     "name": "stdout",
     "output_type": "stream",
     "text": [
      "55 {'ner': 471.929999006254}\n"
     ]
    },
    {
     "name": "stderr",
     "output_type": "stream",
     "text": [
      "100%|███████████████████████████████████████████| 23/23 [00:01<00:00, 12.69it/s]\n"
     ]
    },
    {
     "name": "stdout",
     "output_type": "stream",
     "text": [
      "56 {'ner': 448.49061656531205}\n"
     ]
    },
    {
     "name": "stderr",
     "output_type": "stream",
     "text": [
      "100%|███████████████████████████████████████████| 23/23 [00:01<00:00, 13.70it/s]\n"
     ]
    },
    {
     "name": "stdout",
     "output_type": "stream",
     "text": [
      "57 {'ner': 447.6077509412699}\n"
     ]
    },
    {
     "name": "stderr",
     "output_type": "stream",
     "text": [
      "100%|███████████████████████████████████████████| 23/23 [00:01<00:00, 14.47it/s]\n"
     ]
    },
    {
     "name": "stdout",
     "output_type": "stream",
     "text": [
      "58 {'ner': 420.523652126358}\n"
     ]
    },
    {
     "name": "stderr",
     "output_type": "stream",
     "text": [
      "100%|███████████████████████████████████████████| 23/23 [00:01<00:00, 14.60it/s]\n"
     ]
    },
    {
     "name": "stdout",
     "output_type": "stream",
     "text": [
      "59 {'ner': 404.6141408123027}\n"
     ]
    },
    {
     "name": "stderr",
     "output_type": "stream",
     "text": [
      "100%|███████████████████████████████████████████| 23/23 [00:01<00:00, 14.09it/s]\n"
     ]
    },
    {
     "name": "stdout",
     "output_type": "stream",
     "text": [
      "60 {'ner': 617.09053256404}\n"
     ]
    },
    {
     "name": "stderr",
     "output_type": "stream",
     "text": [
      "100%|███████████████████████████████████████████| 23/23 [00:01<00:00, 13.65it/s]\n"
     ]
    },
    {
     "name": "stdout",
     "output_type": "stream",
     "text": [
      "61 {'ner': 430.0686537764327}\n"
     ]
    },
    {
     "name": "stderr",
     "output_type": "stream",
     "text": [
      "100%|███████████████████████████████████████████| 23/23 [00:01<00:00, 14.82it/s]\n"
     ]
    },
    {
     "name": "stdout",
     "output_type": "stream",
     "text": [
      "62 {'ner': 472.1370543816377}\n"
     ]
    },
    {
     "name": "stderr",
     "output_type": "stream",
     "text": [
      "100%|███████████████████████████████████████████| 23/23 [00:01<00:00, 15.70it/s]\n"
     ]
    },
    {
     "name": "stdout",
     "output_type": "stream",
     "text": [
      "63 {'ner': 580.5638829368681}\n"
     ]
    },
    {
     "name": "stderr",
     "output_type": "stream",
     "text": [
      "100%|███████████████████████████████████████████| 23/23 [00:01<00:00, 14.85it/s]\n"
     ]
    },
    {
     "name": "stdout",
     "output_type": "stream",
     "text": [
      "64 {'ner': 398.44089136995376}\n"
     ]
    },
    {
     "name": "stderr",
     "output_type": "stream",
     "text": [
      "100%|███████████████████████████████████████████| 23/23 [00:01<00:00, 14.43it/s]\n"
     ]
    },
    {
     "name": "stdout",
     "output_type": "stream",
     "text": [
      "65 {'ner': 440.25155377089146}\n"
     ]
    },
    {
     "name": "stderr",
     "output_type": "stream",
     "text": [
      "100%|███████████████████████████████████████████| 23/23 [00:01<00:00, 14.78it/s]\n"
     ]
    },
    {
     "name": "stdout",
     "output_type": "stream",
     "text": [
      "66 {'ner': 378.3426517681209}\n"
     ]
    },
    {
     "name": "stderr",
     "output_type": "stream",
     "text": [
      "100%|███████████████████████████████████████████| 23/23 [00:01<00:00, 14.34it/s]\n"
     ]
    },
    {
     "name": "stdout",
     "output_type": "stream",
     "text": [
      "67 {'ner': 366.8785949701465}\n"
     ]
    },
    {
     "name": "stderr",
     "output_type": "stream",
     "text": [
      "100%|███████████████████████████████████████████| 23/23 [00:01<00:00, 14.21it/s]\n"
     ]
    },
    {
     "name": "stdout",
     "output_type": "stream",
     "text": [
      "68 {'ner': 449.32642069444415}\n"
     ]
    },
    {
     "name": "stderr",
     "output_type": "stream",
     "text": [
      "100%|███████████████████████████████████████████| 23/23 [00:01<00:00, 14.36it/s]\n"
     ]
    },
    {
     "name": "stdout",
     "output_type": "stream",
     "text": [
      "69 {'ner': 388.48224751736234}\n"
     ]
    },
    {
     "name": "stderr",
     "output_type": "stream",
     "text": [
      "100%|███████████████████████████████████████████| 23/23 [00:01<00:00, 13.30it/s]\n"
     ]
    },
    {
     "name": "stdout",
     "output_type": "stream",
     "text": [
      "70 {'ner': 338.8666472233811}\n"
     ]
    },
    {
     "name": "stderr",
     "output_type": "stream",
     "text": [
      "100%|███████████████████████████████████████████| 23/23 [00:01<00:00, 14.00it/s]\n"
     ]
    },
    {
     "name": "stdout",
     "output_type": "stream",
     "text": [
      "71 {'ner': 332.66594062691206}\n"
     ]
    },
    {
     "name": "stderr",
     "output_type": "stream",
     "text": [
      "100%|███████████████████████████████████████████| 23/23 [00:01<00:00, 13.18it/s]\n"
     ]
    },
    {
     "name": "stdout",
     "output_type": "stream",
     "text": [
      "72 {'ner': 289.7845826314563}\n"
     ]
    },
    {
     "name": "stderr",
     "output_type": "stream",
     "text": [
      "100%|███████████████████████████████████████████| 23/23 [00:01<00:00, 14.63it/s]\n"
     ]
    },
    {
     "name": "stdout",
     "output_type": "stream",
     "text": [
      "73 {'ner': 377.97797006897355}\n"
     ]
    },
    {
     "name": "stderr",
     "output_type": "stream",
     "text": [
      "100%|███████████████████████████████████████████| 23/23 [00:01<00:00, 14.40it/s]\n"
     ]
    },
    {
     "name": "stdout",
     "output_type": "stream",
     "text": [
      "74 {'ner': 332.9152055768695}\n"
     ]
    },
    {
     "name": "stderr",
     "output_type": "stream",
     "text": [
      "100%|███████████████████████████████████████████| 23/23 [00:01<00:00, 15.37it/s]\n"
     ]
    },
    {
     "name": "stdout",
     "output_type": "stream",
     "text": [
      "75 {'ner': 309.75031383444446}\n"
     ]
    },
    {
     "name": "stderr",
     "output_type": "stream",
     "text": [
      "100%|███████████████████████████████████████████| 23/23 [00:01<00:00, 13.91it/s]\n"
     ]
    },
    {
     "name": "stdout",
     "output_type": "stream",
     "text": [
      "76 {'ner': 324.7001717275764}\n"
     ]
    },
    {
     "name": "stderr",
     "output_type": "stream",
     "text": [
      "100%|███████████████████████████████████████████| 23/23 [00:01<00:00, 15.49it/s]\n"
     ]
    },
    {
     "name": "stdout",
     "output_type": "stream",
     "text": [
      "77 {'ner': 316.82543212812806}\n"
     ]
    },
    {
     "name": "stderr",
     "output_type": "stream",
     "text": [
      "100%|███████████████████████████████████████████| 23/23 [00:01<00:00, 14.75it/s]\n"
     ]
    },
    {
     "name": "stdout",
     "output_type": "stream",
     "text": [
      "78 {'ner': 335.02597900271667}\n"
     ]
    },
    {
     "name": "stderr",
     "output_type": "stream",
     "text": [
      "100%|███████████████████████████████████████████| 23/23 [00:01<00:00, 15.65it/s]\n"
     ]
    },
    {
     "name": "stdout",
     "output_type": "stream",
     "text": [
      "79 {'ner': 301.2394264423993}\n"
     ]
    },
    {
     "name": "stderr",
     "output_type": "stream",
     "text": [
      "100%|███████████████████████████████████████████| 23/23 [00:01<00:00, 14.71it/s]\n"
     ]
    },
    {
     "name": "stdout",
     "output_type": "stream",
     "text": [
      "80 {'ner': 280.1631195590042}\n"
     ]
    },
    {
     "name": "stderr",
     "output_type": "stream",
     "text": [
      "100%|███████████████████████████████████████████| 23/23 [00:01<00:00, 15.06it/s]\n"
     ]
    },
    {
     "name": "stdout",
     "output_type": "stream",
     "text": [
      "81 {'ner': 250.65381072324467}\n"
     ]
    },
    {
     "name": "stderr",
     "output_type": "stream",
     "text": [
      "100%|███████████████████████████████████████████| 23/23 [00:01<00:00, 15.73it/s]\n"
     ]
    },
    {
     "name": "stdout",
     "output_type": "stream",
     "text": [
      "82 {'ner': 337.86625989778764}\n"
     ]
    },
    {
     "name": "stderr",
     "output_type": "stream",
     "text": [
      "100%|███████████████████████████████████████████| 23/23 [00:01<00:00, 14.08it/s]\n"
     ]
    },
    {
     "name": "stdout",
     "output_type": "stream",
     "text": [
      "83 {'ner': 339.11495855545434}\n"
     ]
    },
    {
     "name": "stderr",
     "output_type": "stream",
     "text": [
      "100%|███████████████████████████████████████████| 23/23 [00:01<00:00, 15.22it/s]\n"
     ]
    },
    {
     "name": "stdout",
     "output_type": "stream",
     "text": [
      "84 {'ner': 318.0265253091539}\n"
     ]
    },
    {
     "name": "stderr",
     "output_type": "stream",
     "text": [
      "100%|███████████████████████████████████████████| 23/23 [00:01<00:00, 13.99it/s]\n"
     ]
    },
    {
     "name": "stdout",
     "output_type": "stream",
     "text": [
      "85 {'ner': 339.8632568130024}\n"
     ]
    },
    {
     "name": "stderr",
     "output_type": "stream",
     "text": [
      "100%|███████████████████████████████████████████| 23/23 [00:01<00:00, 13.46it/s]\n"
     ]
    },
    {
     "name": "stdout",
     "output_type": "stream",
     "text": [
      "86 {'ner': 321.71225405984575}\n"
     ]
    },
    {
     "name": "stderr",
     "output_type": "stream",
     "text": [
      "100%|███████████████████████████████████████████| 23/23 [00:01<00:00, 13.92it/s]\n"
     ]
    },
    {
     "name": "stdout",
     "output_type": "stream",
     "text": [
      "87 {'ner': 236.61820049400538}\n"
     ]
    },
    {
     "name": "stderr",
     "output_type": "stream",
     "text": [
      "100%|███████████████████████████████████████████| 23/23 [00:01<00:00, 15.54it/s]\n"
     ]
    },
    {
     "name": "stdout",
     "output_type": "stream",
     "text": [
      "88 {'ner': 276.54068108830654}\n"
     ]
    },
    {
     "name": "stderr",
     "output_type": "stream",
     "text": [
      "100%|███████████████████████████████████████████| 23/23 [00:01<00:00, 14.83it/s]"
     ]
    },
    {
     "name": "stdout",
     "output_type": "stream",
     "text": [
      "89 {'ner': 293.52203135000514}\n"
     ]
    },
    {
     "name": "stderr",
     "output_type": "stream",
     "text": [
      "\n"
     ]
    }
   ],
   "source": [
    "other_pipes = [pipe for pipe in nlp.pipe_names if pipe != 'ner']\n",
    "with nlp.disable_pipes(*other_pipes):  # only train NER\n",
    "    optimizer = nlp.begin_training()\n",
    "    for itn in range(n_iter):\n",
    "        random.shuffle(train_data)\n",
    "        losses = {}\n",
    "        for text, annotations in tqdm(train_data):\n",
    "            doc = nlp.make_doc(text)\n",
    "            example = Example.from_dict(doc, annotations)\n",
    "            nlp.update(\n",
    "                [example],  \n",
    "                drop=0.5,  \n",
    "                sgd=optimizer,\n",
    "                losses=losses)\n",
    "        print(itn,losses)"
   ]
  },
  {
   "cell_type": "code",
   "execution_count": 54,
   "id": "815d9f3d",
   "metadata": {},
   "outputs": [
    {
     "data": {
      "text/plain": [
       "[['Age-associated B cells (ABCs) accumulate with age, as well as in individuals with a range of immunological dyscrasias. These include patients with cancer treated with immune checkpoint blockade and patients with inborn errors of immunity. In this study, we sought to determine whether ABCs found in all these conditions are similar, and whether they enhance or detract from the response to COVID-19 vaccination. We use single cell RNA sequencing to show that ABCs arising from distinct aetiologies have common transcriptional profiles and may be subdivided according to the expression of genes associated with different immune functions, such as the autoimmune regulator (AIRE). Next, we perform detailed longitudinal profiling of the COVID-19 vaccination response in patients and controls. We show that high pre-vaccination ABC frequency correlates with decreased levels of antigen-specific memory B cells, and reduced magnitude and longevity of neutralising capacity against SARS-CoV-2 virus. Potentially contributing to this, ABCs express high levels of the inhibitory FcγRIIB receptor and are distinctive in their ability to bind immune complexes. This could contribute to diminished vaccine responses either directly as result of inhibitory signalling or indirectly via enhanced clearance of immune complexed-antigen. Expansion of ABCs may therefore serve as a biomarker identifying individuals at risk of a suboptimal response to COVID-19 vaccination.',\n",
       "  {'entities': [[0, 29, 'CONCEPT'],\n",
       "    [257, 331, 'STUDY_SUMM'],\n",
       "    [390, 411, 'CONCEPT'],\n",
       "    [415, 534, 'METHOD_SUMM'],\n",
       "    [650, 677, 'CONCEPT'],\n",
       "    [696, 727, 'CONCEPT'],\n",
       "    [735, 755, 'CONCEPT'],\n",
       "    [804, 906, 'CONC_SUMM'],\n",
       "    [977, 987, 'CONCEPT'],\n",
       "    [1029, 1033, 'CONCEPT'],\n",
       "    [1072, 1088, 'CONCEPT'],\n",
       "    [1336, 1340, 'CONCEPT'],\n",
       "    [1436, 1444, 'CONCEPT']]}],\n",
       " ['We aimed to assess the prevalence of asymptomatic cases of monkeypox virus (MPXV) infection among gay, bisexual, and other men who have sex with men and trans women (TW), using a self-sampling strategy. Anal and pharyngeal swabs were tested by MPXV real-time PCR and positive samples inoculated into Vero E6 cells, which were subsequently checked for cytopathic effect (CPE).  Seven out 113 participants were MPXV positive (6.19% (95% CI: 1.75%-10.64%)). Five tested positive in pharyngeal swabs, one in anal swab and one in both. Six did not present symptoms recognized as MPXV infection. Three samples were positive for CPE, and showed anti-vaccinia pAb staining by FACS and confocal microscopy.  We describe Mpox cases that remain undiagnosed and show reproductive virus despite low viral loads and who might be able to infect others. Restricting testing to individuals reporting Mpox symptoms may not be enough to contain outbreaks.',\n",
       "  {'entities': [[59, 81, 'CONCEPT'],\n",
       "    [179, 202, 'METHOD_SUMM'],\n",
       "    [203, 262, 'METHOD_SUMM'],\n",
       "    [300, 313, 'CONCEPT'],\n",
       "    [351, 374, 'CONCEPT'],\n",
       "    [377, 390, 'RESULTS'],\n",
       "    [409, 422, 'CONCEPT'],\n",
       "    [423, 453, 'CONF_INT'],\n",
       "    [574, 589, 'CONCEPT'],\n",
       "    [622, 625, 'CONCEPT'],\n",
       "    [638, 655, 'CONCEPT']]}],\n",
       " ['Background: Clinicopathological features are used for detection of diseases. Early detection of cancer can be significance for understanding the behavior of disease.  Results: We developed a tool to observe stomach adenocarcinoma in reference of blood-lipid profile. Background of the tool is based on the study made on RNAseq expression analysis of stomach adenocarcinoma. Raw data for study was collected as gene-expression profile from population of cancer-vs-normal. A series of studies performed including: differential gene expression analysis, plasma proteome mapping, extraction of gene-signature enriched with LSTM system model, AI-guided simulation of systems model of gene network, and AI-guided mapping with blood lipid profile to develop R-Shiny web-application.  Conclusion: EarlyDetect, is freely available at https://csir-icmr.shinyapps.io/EarlyDetect/. The tool can be utilized for (i) virtual observation of impact of different combinations of lipid profile in cancer progression; (ii) early detection of cancer state for new comer patients.',\n",
       "  {'entities': [[176, 266, 'STUDY_SUMM'],\n",
       "    [512, 549, 'METHOD_SUMM'],\n",
       "    [551, 574, 'METHOD_SUMM'],\n",
       "    [576, 604, 'METHOD_SUMM'],\n",
       "    [619, 636, 'CONCEPT'],\n",
       "    [638, 691, 'METHOD_SUMM'],\n",
       "    [697, 714, 'METHOD_SUMM'],\n",
       "    [720, 739, 'CONCEPT'],\n",
       "    [751, 775, 'CONCEPT'],\n",
       "    [789, 1059, 'CONC_SUMM']]}],\n",
       " ['Aims: Type 1 diabetes (T1D) results from an autoimmune attack of the pancreatic beta cells that progresses to dysglycemia and symptomatic hyperglycemia. Current biomarkers to track this evolution are limited, with development of islet autoantibodies marking the onset of autoimmunity and metabolic tests used to detect dysglycemia. Therefore, additional biomarkers are needed to better track disease initiation and progression. Multiple clinical studies have used proteomics to identify biomarker candidates. However, most of the studies were limited to the initial candidate identification, which needs to be further validated and have assays developed for clinical use. Here we curate these studies to help prioritize biomarker candidates for validation studies and to obtain a broader view of processes regulated during disease development.  Methods: This systematic review was registered with Open Science Framework (DOI 10.17605/OSF.IO/N8TSA). Using PRISMA guidelines, we conducted a systematic search of proteomics studies of T1D in the PubMed to identify putative protein biomarkers of the disease. Studies that performed mass spectrometry-based untargeted/targeted proteomic analysis of human serum/plasma of control, pre-seroconversion, post-seroconversion, and/or T1D-diagnosed subjects were included. For unbiased screening, 3 reviewers screened all the articles independently using the pre-determined criteria. Results: A total of 13 studies met our inclusion criteria, resulting in the identification of 251 unique proteins, with 27 (11%) being identified across 3 or more studies. The circulating protein biomarkers were found to be enriched in complement, lipid metabolism, and immune response pathways, all of which are found to be dysregulated in different phases of T1D development. We found a subset of 3 proteins (C3, KNG1 & CFAH), 6 proteins (C3, C4A, APOA4, C4B, A2AP & BTD) and 7 proteins (C3, CLUS, APOA4, C6, A2AP, C1R & CFAI) have consistent regulation between multiple studies in samples from individuals at pre-seroconversion, post-seroconversion and post-diagnosis compared to controls, respectively, making them strong candidates for clinical assay development. Conclusions: Biomarkers analyzed in this systematic review highlight alterations in specific biological processes in T1D, including complement, lipid metabolism, and immune response pathways, and may have potential for further use in the clinic as prognostic or diagnostic assays.',\n",
       "  {'entities': [[6, 27, 'CONCEPT'],\n",
       "    [677, 843, 'STUDY_SUMM'],\n",
       "    [989, 1028, 'METHOD_SUMM'],\n",
       "    [1032, 1035, 'CONCEPT'],\n",
       "    [1129, 1213, 'METHOD_SUMM'],\n",
       "    [1274, 1287, 'CONCEPT'],\n",
       "    [1784, 1787, 'CONCEPT'],\n",
       "    [1834, 1836, 'CONCEPT'],\n",
       "    [1838, 1842, 'CONCEPT'],\n",
       "    [1845, 1849, 'CONCEPT'],\n",
       "    [1864, 1866, 'CONCEPT'],\n",
       "    [1868, 1871, 'CONCEPT'],\n",
       "    [1873, 1878, 'CONCEPT'],\n",
       "    [1880, 1883, 'CONCEPT'],\n",
       "    [1885, 1889, 'CONCEPT'],\n",
       "    [1892, 1895, 'CONCEPT'],\n",
       "    [1913, 1915, 'CONCEPT'],\n",
       "    [1917, 1921, 'CONCEPT'],\n",
       "    [1923, 1928, 'CONCEPT'],\n",
       "    [1930, 1932, 'CONCEPT'],\n",
       "    [1934, 1938, 'CONCEPT'],\n",
       "    [1940, 1943, 'CONCEPT'],\n",
       "    [1946, 1950, 'CONCEPT'],\n",
       "    [2205, 2305, 'CONC_SUMM'],\n",
       "    [2309, 2312, 'CONCEPT'],\n",
       "    [2388, 2471, 'CONC_SUMM']]}],\n",
       " ['Background: Per- and polyfluoroalkyl substances (PFAS) are a growing class of manufactured chemical compounds found in a variety of consumer products. PFAS have become ubiquitous in the environment and were found in many humans sampled in the United States (U.S.). Yet, significant gaps in understanding statewide level exposures to PFAS remain.  Objective: The goals of this study are to establish a baseline of exposure at the state level by measuring PFAS serum levels among a representative sample of Wisconsin residents and compare to United States National Health and Nutrition Examination Survey (NHANES). Methods: The study sample included 605 adults (18+ years of age) selected from the 2014-2016 sample of the Survey of the Health of Wisconsin (SHOW). Thirty-eight PFAS serum concentrations were measured using high-pressure liquid chromatography coupled with tandem mass spectrometric detection (HPLC-MS/MS) and geometric means presented. Weighted geometric mean serum values of eight PFAS analytes from SHOW were compared to U.S. national levels from the NHANES 2015-2016 sample (PFOS, PFOA, PFNA, PFHxS, PFHpS, PFDA, PFUnDA), and the 2017-2018 sample for Me-PFOSA, PFHPS using the Wilcoxon rank-sum test.  Results: Over 96% of SHOW participants had positive results for PFOS, PFHxS, PFHpS, PFDA, PFNA, and PFOA. In general, SHOW participants had lower serum levels across all PFAS when compared to NHANES. Serum levels increased with age and were higher among males and whites. These trends were seen in NHANES, except non-whites had higher PFAS levels at higher percentiles.  Significance: Wisconsin residents may have a lower overall body burden of some PFAS compounds compared to those seen by a nationally representative sample. Additional testing and characterization may be needed in Wisconsin, particularly among non-whites and low socioeconomic status, for which the SHOW sample had less representation compared to NHANES.',\n",
       "  {'entities': [[21, 54, 'CONCEPT'],\n",
       "    [151, 155, 'CONCEPT'],\n",
       "    [333, 337, 'CONCEPT'],\n",
       "    [389, 440, 'STUDY_SUMM'],\n",
       "    [444, 610, 'METHOD_SUMM'],\n",
       "    [762, 949, 'METHOD_SUMM'],\n",
       "    [1067, 1073, 'CONCEPT'],\n",
       "    [1092, 1096, 'CONCEPT'],\n",
       "    [1098, 1102, 'CONCEPT'],\n",
       "    [1104, 1108, 'CONCEPT'],\n",
       "    [1110, 1115, 'CONCEPT'],\n",
       "    [1117, 1122, 'CONCEPT'],\n",
       "    [1124, 1128, 'CONCEPT'],\n",
       "    [1130, 1136, 'CONCEPT'],\n",
       "    [1168, 1176, 'CONCEPT'],\n",
       "    [1178, 1183, 'CONCEPT'],\n",
       "    [1233, 1236, 'RESULTS'],\n",
       "    [1283, 1287, 'CONCEPT'],\n",
       "    [1289, 1294, 'CONCEPT'],\n",
       "    [1296, 1301, 'CONCEPT'],\n",
       "    [1303, 1307, 'CONCEPT'],\n",
       "    [1309, 1313, 'CONCEPT'],\n",
       "    [1319, 1324, 'CONCEPT'],\n",
       "    [1337, 1418, 'CONC_SUMM'],\n",
       "    [1419, 1490, 'CONC_SUMM'],\n",
       "    [1669, 1673, 'CONCEPT']]}],\n",
       " [\"Background: Patients with Parkinson's disease undergo a loss of melanized neurons in substantia nigra pars compacta (SNc) and locus coeruleus (LC). There are very few in vivo studies of LC pathology in Parkinson's disease with magnetic resonance imaging (MRI). Existing studies have used varying methodologies, and reproducibility has not been established for any approach.  Methods: Two cohorts, discovery and validation, were recruited from the Emory Movement Disorders Clinic and scanned on two different MRI scanners. In cohort 1, imaging data from 19 controls and 22 Parkinson's disease patients were acquired with a Siemens Trio 3 Tesla scanner using a 2D gradient echo sequence with magnetization transfer preparation pulse. Cohort 2 consisted of 33 controls and 39 Parkinson's disease patients who were scanned on a Siemens Prisma 3 Tesla scanner with a similar imaging protocol. LC and SNc volumes were segmented in both cohorts.  Results:  SNc volume (Cohort 1: p=0.0148; Cohort 2: p=0.0011) and LC volume (Cohort 1: p=0.0412; Cohort 2: p=0.0056) were significantly reduced in the Parkinson's disease group as compared to controls in both cohorts.  Conclusion: SNc volume and LC volume were significantly reduced in Parkinson's disease compared to controls in both cohorts. This imaging approach robustly detects Parkinson's disease effects on these structures, indicating that it is a promising marker for neurodegenerative neuromelanin loss.\",\n",
       "  {'entities': [[26, 35, 'CONCEPT'],\n",
       "    [384, 521, 'METHOD_SUMM'],\n",
       "    [622, 650, 'CONCEPT'],\n",
       "    [659, 684, 'CONCEPT'],\n",
       "    [773, 784, 'CONCEPT'],\n",
       "    [824, 854, 'CONCEPT'],\n",
       "    [961, 1001, 'RESULTS'],\n",
       "    [1016, 1056, 'RESULTS'],\n",
       "    [1091, 1102, 'CONCEPT'],\n",
       "    [1226, 1237, 'CONCEPT'],\n",
       "    [1323, 1334, 'CONCEPT']]}],\n",
       " ['ABSTRACT  Introduction The nirmatrelvir/ritonavir (PAXLOVIDTM) is an antiviral blocking the replication of SARS-CoV-2. Early treatment with this antiviral has showed to reduce COVID-19 hospitalization and death in unvaccinated outpatients with mild-to-moderate COVID-19 and high risk of progression to severe disease with variants before Omicron. However, the current epidemiological context and the level of immunity in the population (vaccination and/or natural infection) have evolved considerably since the disclosure of these results. Thus, real-world evidence studies in vaccinated outpatients with lineage and sublineage of the variant are needed.  Objective To assess whether nirmatrelvir/ritonavir treatment reduces the risk of COVID-19-associated hospitalization among Québec outpatients with mild-to-moderate COVID-19 at high risk of progression to severe disease in a real-world context, regardless of vaccination status and circulating variants, in the province of Québec.  Methods This was a retrospective cohort study of SARS-CoV-2-infected outpatients who received nirmatrelvir/ritonavir between March 15 and August 15, 2022, using data from the Québec provincial clinico-administrative databases. Outpatients treated with nirmatrelvir/ritonavir were compared to unexposed ones. The treatment group was matched with controls using propensity-score matching in a ratio of 1:1. The outcome was COVID-19-associated hospitalization occurring within 30 days following the index date. Poisson regression with robust error variance was used to estimate the relative risk of hospitalization among the treatment group compared to the control group.   Results A total of 16,601 and 242,341 outpatients were eligible to be included in the treatment (nirmatrelvir/ritonavir) and control groups respectively. Among treated outpatients, 8,402 were matched to controls. Regardless of vaccination status, nirmatrelvir/ritonavir-treated outpatient status was associated with a 69% reduced relative risk of COVID-19-associated hospitalization (RR: 0.31 [95% CI: 0.28; 0.36]). The effect was more pronounced in outpatients without a complete primary vaccination course (RR: 0.04 [95% CI: 0.03; 0.06]), while treatment with nirmatrelvir/ritonavir was not associated with benefit when outpatients with a complete primary vaccination course were considered (RR: 0.93 [95% CI: 0.78; 1.08]) Subgroups analysis among outpatients with a primary vaccination course showed that nirmatrelvir/ritonavir treatment was associated with a significant decrease in relative risk of hospitalization in severely immunocompromised outpatients (RR: 0.66 [95% CI: 0.50; 0.89]) and in outpatients aged 70 years and older (RR: 0.50 [95% CI: 0.34; 0.74]) when the last dose of the vaccine was received more than six months before.  Conclusions Among SARS-CoV-2 infected outpatients at high risk for severe COVID-19 during Omicron BA.2 and BA.4/5 surges, treatment with nirmatrelvir/ritonavir was associated with a significant reduced relative risk of COVID-19-associated hospitalization. This effect was observed in outpatients with incomplete primary vaccination course and in outpatients who were severely immunocompromised. Except for severely immunocompromised outpatients, no evidence of benefit was found in any category of outpatient with a complete primary vaccination course whose last dose of COVID-19 vaccine was received within six months.',\n",
       "  {'entities': [[27, 62, 'CONCEPT'],\n",
       "    [107, 118, 'CONCEPT'],\n",
       "    [176, 184, 'CONCEPT'],\n",
       "    [261, 269, 'CONCEPT'],\n",
       "    [338, 346, 'CONCEPT'],\n",
       "    [666, 772, 'STUDY_SUMM'],\n",
       "    [820, 828, 'CONCEPT'],\n",
       "    [1036, 1055, 'CONCEPT'],\n",
       "    [1081, 1103, 'CONCEPT'],\n",
       "    [1214, 1383, 'METHOD_SUMM'],\n",
       "    [1408, 1427, 'CONCEPT'],\n",
       "    [1755, 1777, 'CONCEPT'],\n",
       "    [1905, 1935, 'CONCEPT'],\n",
       "    [1976, 2001, 'RESULTS'],\n",
       "    [2005, 2024, 'CONCEPT'],\n",
       "    [2041, 2072, 'CONF_INT'],\n",
       "    [2166, 2197, 'CONF_INT'],\n",
       "    [2220, 2242, 'CONCEPT'],\n",
       "    [2351, 2382, 'CONF_INT'],\n",
       "    [2466, 2488, 'CONCEPT'],\n",
       "    [2620, 2651, 'CONF_INT'],\n",
       "    [2695, 2726, 'CONF_INT'],\n",
       "    [2822, 2832, 'CONCEPT'],\n",
       "    [2878, 2886, 'CONCEPT'],\n",
       "    [2894, 2906, 'CONCEPT'],\n",
       "    [2911, 2917, 'CONCEPT'],\n",
       "    [2926, 3059, 'CONC_SUMM'],\n",
       "    [3375, 3383, 'CONCEPT']]}],\n",
       " ['Objective: To investigate the diagnostic and prognostic role of gastric fluid DNA (gfDNA) in gasric cancer (GC) patients and controls submitted to upper digestive endoscopy. Design: The concentration of gfDNA was evaluated in 941 samples, including subjects with normal gastric mucosa (n = 10), peptic diseases (n = 596), pre-neoplastic conditions (n = 99), and cancer (n = 236). gfDNA levels were evaluated according to age, gender, BMI, gastric fluids pH, use of proton-pump inhibitors, GC tumor subtypes, histological grades, clinical stages, and disease progression/outcome. Results: In the non-cancer group, we observed that gfDNA levels are increased in women as compared to men (p=7.44e-4). Remarkably, gfDNA levels are increased in GC patients as compared to non-GC (normal + peptic diseases, p=5.67e-13) and in GC versus pre-neoplastic disease (p=1.53e-6). Similar differences were also seen when more advanced tumors (T3) were compared to early stages (T2 and below) (p=5.97-4). Moreover, our results suggest the prognostic value of gfDNA as GC-patients with higher gfDNA concentrations (<1.28ng/microliter) had increased infiltration of immune cells in the tumor (p=1.06e-3), which parallels with better disease-free survival (p= 0.014). Conclusion: These findings highlight the significance of collecting and studying stomach fluids from gastric cancer patients and reveals the potential impact of this approach as well as its diagnostic and prognostic value for disease management.',\n",
       "  {'entities': [[14, 77, 'STUDY_SUMM'],\n",
       "    [78, 89, 'CONCEPT'],\n",
       "    [93, 111, 'CONCEPT'],\n",
       "    [147, 173, 'CONCEPT'],\n",
       "    [203, 208, 'CONCEPT'],\n",
       "    [263, 284, 'CONCEPT'],\n",
       "    [295, 310, 'CONCEPT'],\n",
       "    [322, 347, 'CONCEPT'],\n",
       "    [362, 368, 'CONCEPT'],\n",
       "    [378, 578, 'METHOD_SUMM'],\n",
       "    [630, 635, 'CONCEPT'],\n",
       "    [636, 684, 'CONC_SUMM'],\n",
       "    [685, 696, 'RESULTS'],\n",
       "    [710, 715, 'CONCEPT'],\n",
       "    [740, 742, 'CONCEPT'],\n",
       "    [774, 812, 'RESULTS'],\n",
       "    [820, 822, 'CONCEPT'],\n",
       "    [830, 844, 'CONCEPT'],\n",
       "    [853, 864, 'RESULTS'],\n",
       "    [927, 931, 'CONCEPT'],\n",
       "    [962, 976, 'CONCEPT'],\n",
       "    [977, 987, 'RESULTS'],\n",
       "    [1043, 1048, 'CONCEPT'],\n",
       "    [1052, 1063, 'CONCEPT'],\n",
       "    [1122, 1173, 'CONC_SUMM'],\n",
       "    [1174, 1185, 'RESULTS'],\n",
       "    [1276, 1373, 'CONC_SUMM']]}],\n",
       " ['Because of the large number of infected individuals, an estimate of the future burdens of the long-term consequences of SARS-CoV-2 infection is needed. This systematic review examined associations between SARS-CoV-2 infection and incidence of categories of and selected chronic conditions, by age and severity of infection (inpatient vs. outpatient/mixed care). MEDLINE and EMBASE were searched (Jan 1, 2020 to Oct 4, 2022) and reference lists scanned. We included observational studies from high-income OECD countries with a control group adjusting for sex and comorbidities. Identified records underwent a two-stage screening process. Two reviewers screened 50% of titles/abstracts, after which DistillerAI acted as second reviewer. Two reviewers then screened the full texts of stage one selections. One reviewer extracted data and assessed risk of bias; results were verified by another. Random-effects meta-analysis estimated pooled hazard ratios (HR). GRADE assessed certainty of the evidence. Twenty-five studies were included. Among the outpatient/mixed SARS-CoV-2 care group, there is high certainty of a small-to-moderate increase (i.e., HR 1.26 to 1.99) among adults ≥65 years of any cardiovascular condition, and of little-to-no difference (i.e., HR 0.75 to 1.25) in anxiety disorders for individuals <18, 18-64, and ≥65 years old. Among 18-64 and ≥65 year-olds receiving outpatient/mixed care there are probably (moderate certainty) large increases (i.e., HR ≥2.0) in encephalopathy, interstitial lung disease, and respiratory failure. After SARS-CoV-2 infection, there is probably an increased risk of diagnoses for some chronic conditions; whether the magnitude of risk will remain stable into the future is uncertain.',\n",
       "  {'entities': [[120, 130, 'CONCEPT'],\n",
       "    [205, 215, 'CONCEPT'],\n",
       "    [157, 288, 'STUDY_SUMM'],\n",
       "    [362, 369, 'CONCEPT'],\n",
       "    [374, 380, 'CONCEPT'],\n",
       "    [456, 576, 'METHOD_SUMM'],\n",
       "    [938, 955, 'CONCEPT'],\n",
       "    [958, 963, 'CONCEPT'],\n",
       "    [1062, 1072, 'CONCEPT'],\n",
       "    [1094, 1140, 'CONC_SUMM'],\n",
       "    [1141, 1164, 'RESULTS'],\n",
       "    [1228, 1251, 'CONC_SUMM'],\n",
       "    [1252, 1275, 'RESULTS'],\n",
       "    [1555, 1575, 'CONCEPT'],\n",
       "    [1577, 1653, 'CONC_SUMM']]}],\n",
       " [\"Generative artificial intelligence, popularized by services like ChatGPT, has been the source of much recent popular attention for publishing health research. Another valuable application is in translating published research studies to readers in non-academic settings. These might include environmental justice communities, mainstream media outlets, and community science groups. Five recently published (2021-2022) open-access, peer-reviewed papers, authored by University of Louisville environmental health investigators and collaborators, were submitted to ChatGPT. The average rating of all summaries of all types across the five different studies ranged between 3 and 5, indicating good overall content quality. ChatGPT's general summary request was consistently rated lower than all other summary types. Whereas higher ratings of 4 and 5 were assigned to the more synthetic, insight-oriented activities, such as the production of a plain language summaries suitable for an 8th grade reading level and identifying the most important finding and real-world research applications. This is a case where artificial intelligence might help level the playing field, for example by creating accessible insights and enabling the large-scale production of high-quality plain language summaries which would truly bring open access to this scientific information. This possibility, combined with the increasing public policy trends encouraging and demanding free access for research supported with public funds, may alter the role journal publications play in communicating science in society. For the field of environmental health science, no-cost AI technology such as ChatGPT holds the promise to improve research translation, but it must continue to be improved (or improve itself) from its current capability.\",\n",
       "  {'entities': [[0, 34, 'CONCEPT'],\n",
       "    [65, 72, 'CONCEPT'],\n",
       "    [561, 569, 'CONCEPT'],\n",
       "    [718, 725, 'CONCEPT'],\n",
       "    [1106, 1129, 'CONCEPT'],\n",
       "    [1644, 1657, 'CONCEPT'],\n",
       "    [1666, 1673, 'CONCEPT'],\n",
       "    [1674, 1723, 'CONC_SUMM']]}],\n",
       " ['Background and Objectives: Valproate is a candidate for ischemic stroke prevention due to its anti-atherosclerotic effects in vivo. Although valproate use is associated with decreased ischemic stroke risk in observational studies, confounding by indication precludes causal conclusions. To overcome this limitation, we applied Mendelian randomization to determine whether genetic variants that influence clinical response among valproate users associate with ischemic stroke risk in the UK Biobank (UKB). Methods: Using independent genome-wide association data of seizure response after valproate intake from the EpiPGX consortium, a genetic score for valproate response was derived. Valproate users were identified from UKB baseline and primary care data, and the association of the genetic score with incident and recurrent ischemic stroke was tested in Cox proportional hazard models. Results: Among 2,150 valproate users (mean 56 years, 54% females), 82 ischemic strokes occurred over a mean 12-year follow-up. A higher genetic score was associated with an increased effect of valproate dose on serum valproate levels (+0.48 mcg/ml per 100mg/day per one SD, 95%CI[0.28, 0.68]). After adjusting for age and sex, a higher genetic score was associated with lower ischemic stroke risk (HR per one SD 0.73, [0.58, 0.91]) with a halving of absolute risk in the highest compared to the lowest score tertile (4.8% vs 2.5%, p-trend=0.027). In the 194 valproate users with prevalent stroke at baseline, a higher genetic score was associated with lower recurrent ischemic stroke risk (HR per one SD 0.53, [0.32, 0.86]) with reduced absolute risk in the highest compared to the lowest score tertile (3/51, 5.9% vs. 13/71, 18.3%, p-trend=0.026). The genetic score was not associated with ischemic stroke among the 427,997 valproate non-users (p=0.61), suggesting minimal contribution of pleiotropic effects from included genetic variants.  Discussion: Among valproate users, genetically predicted favorable seizure response to valproate was associated with higher valproate levels and reduced ischemic stroke risk, providing causal support for valproate utility in ischemic stroke prevention. The strongest effect was found for recurrent ischemic stroke, suggesting potential dual-use benefits of valproate for post-stroke epilepsy. Clinical trials are warranted to identify populations that may benefit most from valproate for stroke prevention.',\n",
       "  {'entities': [[27, 36, 'CONCEPT'],\n",
       "    [56, 71, 'CONCEPT'],\n",
       "    [94, 114, 'CONCEPT'],\n",
       "    [327, 350, 'METHOD_SUMM'],\n",
       "    [459, 474, 'CONCEPT'],\n",
       "    [364, 479, 'STUDY_SUMM'],\n",
       "    [514, 630, 'METHOD_SUMM'],\n",
       "    [1122, 1180, 'CONF_INT'],\n",
       "    [1285, 1319, 'CONF_INT'],\n",
       "    [1404, 1433, 'RESULTS'],\n",
       "    [1577, 1611, 'CONF_INT'],\n",
       "    [1691, 1735, 'RESULTS'],\n",
       "    [1741, 1794, 'CONC_SUMM'],\n",
       "    [1833, 1840, 'RESULTS'],\n",
       "    [1966, 2104, 'CONC_SUMM']]}],\n",
       " ['Background: Population genetics is crucial for understanding the transmission dynamics of diseases like onchocerciasis. Landscape genetics identifies the ecological features that impact genetic variation between sampling sites. Here, we have used a landscape genetics framework to understand the relationship between environmental features and gene flow of the filarial parasite Onchocerca volvulus and of its intermediate host and vector, blackflies in the genus Simulium. We analysed samples from the ecological transition region separating the savannah and forest ecological regions of Ghana, where the transmission of O.\\u202fvolvulus has persisted despite almost half a century of onchocerciasis control efforts.   Methods: We generated a baseline microfilarial prevalence map from the point estimates of pre-ivermectin microfilarial prevalence from 47 locations in the study area. We analysed mitochondrial data from 164 parasites and 93 blackflies collected from 15 communities and four breeding sites, respectively. We estimated population genetic diversity and identified correlations with environmental variables. Finally, we compared baseline prevalence maps to movement suitability maps that were based on significant environmental variables.   Results: We found that the resistance surfaces derived from elevation (r = 0.793, p = 0.005) and soil moisture (r = 0.507, p = 0.002) were significantly associated with genetic distance between parasite sampling locations. Similarly, for the vector populations, the resistance surfaces derived from soil moisture (r = 0.788, p = 0.0417) and precipitation (r = 0.835, p = 0.0417) were significant. The correlation between the baseline parasite prevalence map and the parasite resistance surface map was stronger than the correlation between baseline prevalence and the vector resistance surface map. The central parts of the transition region which were conducive for both the parasite and the vector gene flow were most strongly associated with high baseline onchocerciasis prevalence.   Conclusions: We present a framework for incorporating environmental, genetic, and prevalence data for identifying when ecological conditions are favourable for onchocerciasis transmission between communities. We identified areas with higher suitability for parasite and vector gene flow, which ultimately might help us gain deeper insights into defining transmission zones for onchocerciasis. Furthermore, this framework is translatable to other onchocerciasis endemic areas and to other vector-borne diseases.',\n",
       "  {'entities': [[12, 31, 'CONCEPT'],\n",
       "    [104, 119, 'CONCEPT'],\n",
       "    [249, 353, 'STUDY_SUMM'],\n",
       "    [361, 398, 'CONCEPT'],\n",
       "    [458, 473, 'CONCEPT'],\n",
       "    [622, 633, 'CONCEPT'],\n",
       "    [739, 844, 'METHOD_SUMM'],\n",
       "    [1032, 1107, 'METHOD_SUMM'],\n",
       "    [1140, 1193, 'METHOD_SUMM'],\n",
       "    [1322, 1344, 'RESULTS'],\n",
       "    [1363, 1385, 'RESULTS'],\n",
       "    [1391, 1474, 'CONC_SUMM'],\n",
       "    [1565, 1588, 'RESULTS'],\n",
       "    [1607, 1630, 'RESULTS'],\n",
       "    [1653, 1850, 'CONC_SUMM']]}],\n",
       " ['Objectives: Copy number variants (CNVs) are well-known genetic pleiotropic risk factors for multiple neurodevelopmental and psychiatric disorders (NPDs) including autism (ASD) and schizophrenia (SZ). Overall, little is known about how different CNVs conferring risk for the same condition may affect subcortical brain structures and how these alterations relate to the level of disease risk conferred by CNVs. To fill this gap, we investigated gross volume, and vertex level thickness and surface maps of subcortical structures in 11 different CNVs and 6 different NPDs. Methods: Subcortical structures were characterized using harmonized ENIGMA protocols in 675 CNV carriers (at the following loci: 1q21.1, TAR, 13q12.12, 15q11.2, 16p11.2, 16p13.11, and 22q11.2) and 782 controls (Male/Female: 727/730; age-range: 6-80 years) as well as ENIGMA summary-statistics for ASD, SZ, ADHD, Obsessive-Compulsive-Disorder, Bipolar-Disorder, and Major-Depression. Results: Nine of the 11 CNVs affected volume of at least one subcortical structure. The hippocampus and amygdala were affected by five CNVs. Effect sizes of CNVs on subcortical volume, thickness and local surface area were correlated with their previously reported effect sizes on cognition and risk for ASD and SZ. Shape analyses were able to identify subregional alterations that were averaged out in volume analyses. We identified a common latent dimension - characterized by opposing effects on basal ganglia and limbic structures - across CNVs and across NPDs. Conclusion: Our findings demonstrate that subcortical alterations associated with CNVs show varying levels of similarities with those associated with neuropsychiatric conditions. We also observed distinct effects with some CNVs clustering with adult conditions while others clustered with ASD. This large cross-CNV and NPDs analysis provide insight into the long-standing questions of why CNVs at different genomic loci increase the risk for the same NPD, as well as why a single CNV increases the risk for a diverse set of NPDs.',\n",
       "  {'entities': [[12, 38, 'CONCEPT'],\n",
       "    [55, 74, 'CONCEPT'],\n",
       "    [101, 119, 'CONCEPT'],\n",
       "    [124, 152, 'CONCEPT'],\n",
       "    [163, 175, 'CONCEPT'],\n",
       "    [180, 198, 'CONCEPT'],\n",
       "    [245, 249, 'CONCEPT'],\n",
       "    [404, 409, 'CONCEPT'],\n",
       "    [544, 548, 'CONCEPT'],\n",
       "    [565, 570, 'CONCEPT'],\n",
       "    [580, 655, 'METHOD_SUMM'],\n",
       "    [663, 666, 'CONCEPT'],\n",
       "    [700, 706, 'CONCEPT'],\n",
       "    [708, 711, 'CONCEPT'],\n",
       "    [713, 721, 'CONCEPT'],\n",
       "    [723, 730, 'CONCEPT'],\n",
       "    [732, 739, 'CONCEPT'],\n",
       "    [741, 749, 'CONCEPT'],\n",
       "    [755, 762, 'CONCEPT'],\n",
       "    [868, 871, 'CONCEPT'],\n",
       "    [873, 875, 'CONCEPT'],\n",
       "    [877, 881, 'CONCEPT'],\n",
       "    [883, 912, 'CONCEPT'],\n",
       "    [914, 930, 'CONCEPT'],\n",
       "    [936, 953, 'CONCEPT'],\n",
       "    [963, 977, 'RESULTS'],\n",
       "    [978, 982, 'CONCEPT'],\n",
       "    [1042, 1053, 'CONCEPT'],\n",
       "    [1058, 1066, 'CONCEPT'],\n",
       "    [1089, 1094, 'CONCEPT'],\n",
       "    [1111, 1115, 'CONCEPT'],\n",
       "    [1258, 1261, 'CONCEPT'],\n",
       "    [1266, 1269, 'CONCEPT'],\n",
       "    [1453, 1466, 'CONCEPT'],\n",
       "    [1471, 1488, 'CONCEPT'],\n",
       "    [1498, 1502, 'CONCEPT'],\n",
       "    [1514, 1519, 'CONCEPT'],\n",
       "    [1562, 1698, 'CONC_SUMM'],\n",
       "    [1716, 1813, 'CONC_SUMM'],\n",
       "    [1825, 1834, 'CONCEPT'],\n",
       "    [1839, 1843, 'CONCEPT'],\n",
       "    [1909, 1913, 'CONCEPT'],\n",
       "    [1971, 1974, 'CONCEPT'],\n",
       "    [2000, 2003, 'CONCEPT']]}],\n",
       " ['Acoustic signal analysis has been employed in various medical devices. However, studies involving cough sound analysis to screen the potential Pulmonary Tuberculosis (PTB) suspects are very few. The main objective of this cross-sectional validation study was to develop and validate the Swaasa AI platform to screen and prioritize at risk patients for PTB based on the signature cough sound as well as symptomatic information provided by the subjects. The voluntary cough sound data was collected at Andhra Medical College-India. An Algorithm based on multimodal Convolutional Neural Network (CNN) architecture and Feedforward Artificial Neural Network (FFANN) (tabular features) was built and validated on a total of 567 subjects, comprising 278 positive and 289 negative PTB cases. The output from these two models was combined to detect the likely presence (positive cases) of PTB. In the clinical validation phase, the AI-model was found to be 86.82% accurate in detecting the likely presence of PTB with 90.36% sensitivity and 84.67% specificity. The pilot testing of model was conducted at a peripheral health care centre, RHC Simhachalam-India on 65 presumptive PTB cases. Out of which, 15 subjects truly turned out to be PTB positive with a Positive Predictive Value of 75%. The validation results obtained from the model are quite encouraging. This platform has the potential to fulfil the unmet need of a cost-effective PTB screening method. It works remotely, presents instantaneous results, and does not require a highly trained operator. Therefore, it could be implemented in various inaccessible, resource-poor parts of the world.',\n",
       "  {'entities': [[0, 24, 'CONCEPT'],\n",
       "    [143, 171, 'CONCEPT'],\n",
       "    [262, 390, 'STUDY_SUMM'],\n",
       "    [563, 597, 'CONCEPT'],\n",
       "    [615, 660, 'CONCEPT'],\n",
       "    [788, 884, 'METHOD_SUMM'],\n",
       "    [948, 954, 'RESULTS'],\n",
       "    [1000, 1003, 'CONCEPT'],\n",
       "    [1009, 1015, 'RESULTS'],\n",
       "    [1032, 1038, 'RESULTS'],\n",
       "    [1169, 1172, 'CONCEPT'],\n",
       "    [1229, 1232, 'CONCEPT'],\n",
       "    [1278, 1281, 'RESULTS']]}],\n",
       " ['Introduction Deep brain stimulation (DBS) is an established treatment in patients with pharmaco-resistant neurological disorders of different ages. Surgical targeting and postoperative programming of DBS depend on the spatial location of the stimulating electrodes in relation to the surrounding anatomical structures and on electrode connectivity to a specific distributed pattern of brain networks. Such information is usually collected using group-level analysis which relies on the availability normative imaging-resources (atlases and connectomes). To this end, analyzing DBS data of children with debilitating neurological disorders like dystonia would make benefit from such resources, especially given the developmental differences between adults and children neuroimaging data. We assembled pediatric, normative neuroimaging-resources from open-access neuroimaging datasets and illustrated their utility on a cohort of children with dystonia treated with pallidal DBS. We aimed to derive a local pallidal sweetspot and explore a connectivity fingerprint associated with pallidal stimulation to exemplify the utility of the assembled imaging resources.  Methods A pediatric average brain template was implemented and used to localize DBS electrodes of twenty patients of the GEPESTIM registry cohort.  Next, a pediatric subcortical atlas was also employed to highlight anatomical structures of interest. Local pallidal sweetspot was modeled and its degree of overlap with stimulation volumes was calculated as a correlate of individual clinical outcome. Additionally, a pediatric functional connectome of neurotypical subjects was built to allow network-based analyses and decipher a connectivity fingerprint responsible for clinical improvement in our cohort.  Results We successfully implemented a pediatric neuroimaging dataset that will be made available to public use as a tool for DBS-analyses. Overlap of stimulation volumes with the identified DBS-sweetspot model correlated significantly with improvement on a local spatial level (R = 0.46, permuted p = 0.019). Functional connectivity fingerprint of DBS-outcome was determined as a network correlate of therapeutic pallidal stimulation in children with dystonia (R = 0.30, permuted p = 0.003).   Conclusions Local sweetspot and distributed network models provide neuroanatomical substrates for DBS-associated clinical outcome in dystonia using pediatric neuroimaging surrogate data. The current implementation of pediatric neuroimaging dataset might help improving the practice of DBS-neuroimaging analyses in pediatric patients.',\n",
       "  {'entities': [[13, 41, 'CONCEPT'],\n",
       "    [87, 118, 'CONCEPT'],\n",
       "    [999, 1062, 'STUDY_SUMM'],\n",
       "    [1170, 1308, 'METHOD_SUMM'],\n",
       "    [2047, 2077, 'RESULTS'],\n",
       "    [2230, 2260, 'RESULTS'],\n",
       "    [2451, 2597, 'CONC_SUMM']]}],\n",
       " ['Oral squamous cell carcinoma (OSCC) is amongst the most common cancers worldwide, with more than 377,000 new cases worldwide each year. OSCC prognosis remains poor, related to cancer presentation at a late stage indicating the need for early detection to improve patient prognosis. OSCC is often preceded by a premalignant state known as oral epithelial dysplasia (OED), which is diagnosed and graded using subjective histological criteria leading to variability and prognostic unreliability. In this work, we propose a deep learning approach for the development of prognostic models for malignant transformation and their association with clinical outcomes in histology whole slide images (WSIs) of OED tissue sections. We train a weakly supervised method on OED (n= 137) cases with transformation (n= 50) status and mean malignant transformation time of 6.51 years (±5.35 SD). Performing stratified 5-fold cross-validation achieves an average AUROC of ~0.78 for predicting malignant transformations in OED. Hotspot analysis reveals various features from nuclei in the epithelium and peri-epithelial tissue to be significant prognostic factors for malignant transformation, including the count of peri-epithelial lymphocytes (PELs) (p < 0.05), epithelial layer nuclei count (NC) (p < 0.05) and basal layer NC (p < 0.05). Progression free survival using the Epithelial layer NC (p < 0.05, C-index = 0.73), Basal layer NC (p < 0.05, C-index = 0.70) and PEL count (p < 0.05, C-index = 0.73) shown association of these features with a high risk of malignant transformation. Our work shows the application of deep learning for prognostication and progression free survival (PFS) prediction of OED for the first time and has a significant potential to aid patient management. Further evaluation and testing on multi-centric data is required for validation and translation to clinical practice.',\n",
       "  {'entities': [[0, 35, 'CONCEPT'],\n",
       "    [338, 369, 'CONCEPT'],\n",
       "    [671, 696, 'CONCEPT'],\n",
       "    [700, 720, 'CONCEPT'],\n",
       "    [760, 763, 'CONCEPT'],\n",
       "    [1004, 1008, 'CONCEPT'],\n",
       "    [1149, 1173, 'CONCEPT'],\n",
       "    [1198, 1232, 'CONCEPT'],\n",
       "    [1233, 1243, 'RESULTS'],\n",
       "    [1245, 1279, 'CONCEPT'],\n",
       "    [1280, 1290, 'RESULTS'],\n",
       "    [1295, 1309, 'CONCEPT'],\n",
       "    [1310, 1320, 'RESULTS'],\n",
       "    [1358, 1377, 'CONCEPT'],\n",
       "    [1378, 1404, 'RESULTS'],\n",
       "    [1406, 1420, 'CONCEPT'],\n",
       "    [1421, 1447, 'RESULTS'],\n",
       "    [1452, 1455, 'CONCEPT'],\n",
       "    [1462, 1488, 'RESULTS'],\n",
       "    [1545, 1570, 'CONCEPT'],\n",
       "    [1670, 1674, 'CONCEPT'],\n",
       "    [1689, 1692, 'CONCEPT']]}],\n",
       " ['Typhoid-conjugate vaccines (TCVs) provide an opportunity to reduce the burden of typhoid fever, caused by Salmonella Typhi, in endemic areas. As policymakers design vaccination strategies, accurate and high-resolution data on disease burden is crucial. However, traditional blood culture-based surveillance is resource-extensive, prohibiting its large-scale and sustainable implementation. Salmonella Typhi is a water-borne pathogen, and here, we tested the potential of Typhi-specific bacteriophage surveillance in surface water bodies as a low-cost tool to identify where Salmonella Typhi circulates in the environment. In 2021, water samples were collected and tested for the presence of Salmonella Typhi bacteriophages at two sites in Bangladesh: urban capital city, Dhaka, and a rural district, Mirzapur. Salmonella Typhi-specific bacteriophages were detected in 66 of 211 (31%) environmental samples in Dhaka, in comparison to 3 of 92 (3%) environmental samples from Mirzapur. In the same year, 4,620 blood cultures at the two largest pediatric hospitals of Dhaka yielded 215 (5%) culture-confirmed typhoid cases, and 3,788 blood cultures in the largest hospital of Mirzapur yielded 2 (0.05%) cases. 75% (52/69) of positive phage samples were collected from sewage. All isolated phages were tested against a panel of isolates from different Salmonella Typhi genotypes circulating in Bangladesh and were found to exhibit a diverse killing spectrum, indicating diverse bacteriophages were isolated. These results suggest an association between the presence of Typhi-specific phages in the environment and the burden of typhoid fever, and the potential of utilizing environmental phage surveillance as a low-cost tool to assist policy decisions on typhoid control.',\n",
       "  {'entities': [[0, 32, 'CONCEPT'],\n",
       "    [81, 94, 'CONCEPT'],\n",
       "    [106, 122, 'CONCEPT'],\n",
       "    [165, 240, 'STUDY_SUMM'],\n",
       "    [390, 406, 'CONCEPT'],\n",
       "    [412, 432, 'CONCEPT'],\n",
       "    [447, 555, 'METHOD_SUMM'],\n",
       "    [574, 590, 'CONCEPT'],\n",
       "    [691, 722, 'CONCEPT'],\n",
       "    [810, 850, 'CONCEPT'],\n",
       "    [1276, 1291, 'CONCEPT'],\n",
       "    [1347, 1373, 'CONCEPT'],\n",
       "    [1528, 1766, 'CONC_SUMM']]}],\n",
       " [\"Abstract  Importance: Consistent, evidence-based communication is critical to building trust and maintaining credibility of public health agencies. Objective: To identify any significant changes in the mainstream media's presentation of public health advice for flu prevention before and after the COVID-19 pandemic.  Design, Setting, and Participants: A systematic search in Factiva of top ten U.S. newspapers by circulation, using two search periods, 2018-2019 and 2021-2022.  Articles with flu prevention advice were identified, abstracted for media outlet, reporter, date. Articles were coded for the specific advice provided.    Main Measure(s): Number of recommendations for flu prevention, frequency of each recommendation; percent of recommendations aligned with CDC guidelines for each period. Changes in frequency of each recommendation. Differences determined using 2-proportion Z-tests, p-value 0.05 significance.  Results: 128 articles with 244 recommendations for pre-COVID period; 122 articles with 296 recommendations post-COVID. 96.3% of recommendations in alignment with CDC guidelines pre-COVID. 63.9% of recommendations in alignment with CDC during post-COVID timeframe. Percentage of articles with advice to mask for flu increased by 1,494.8% (p=<0.00001). 14.5% decline in percentage of articles advising flu vaccine (p=0.002). 495.5% increase in percentage of articles recommending social distancing (p=0.001).  1,368.9% increase in percentage articles recommending increased ventilation (p=0.0004). Advice to cover cough/sneeze declined by 52.8% (p=0.041); advice to disinfect surfaces declined by 76.7% (p=0.038).  Conclusions and Relevance: Expert advice on flu prevention as presented in top 10 U.S. newspapers changed significantly during the COVID-19 pandemic. The strategies discussed more frequently are not currently recommended by CDC. This is relevant information for public health leaders as they address ongoing issues of trust and credibility.\",\n",
       "  {'entities': [[162, 276, 'STUDY_SUMM'],\n",
       "    [298, 306, 'CONCEPT'],\n",
       "    [355, 451, 'METHOD_SUMM'],\n",
       "    [1264, 1276, 'RESULTS'],\n",
       "    [1339, 1348, 'RESULTS'],\n",
       "    [1423, 1432, 'RESULTS'],\n",
       "    [1511, 1521, 'RESULTS'],\n",
       "    [1570, 1579, 'RESULTS'],\n",
       "    [1628, 1637, 'RESULTS'],\n",
       "    [1790, 1868, 'CONC_SUMM']]}],\n",
       " ['Background: The prognostic utility of NT-proBNP in the setting of hypertension has not been well-characterized in the general US adult population.  Methods: We measured NT-proBNP among adults aged 20 years who participated in the 1999-2004 National Health and Nutrition Examination Survey. In adults without a history of cardiovascular disease, we assessed the prevalence of elevated NT-pro-BNP by blood pressure (BP) treatment and control categories. We examined the extent to which NT-proBNP identifies participants at higher risk for mortality across BP treatment and control categories.  Results: The number of US adults without CVD with elevated NT-proBNP (125 pg/ml) was 6.2 million among those with untreated hypertension, 4.6 million among those with treated controlled hypertension, and 5.4 million among those with treated uncontrolled hypertension. After adjusting for age, sex, body mass index, and race/ethnicity, participants with treated controlled hypertension and elevated NT-proBNP had increased risk of all-cause mortality (HR 2.29, 95% CI 1.79, 2.95) and increased risk of cardiovascular mortality (HR 3.83, 95% CI: 2.34, 6.29), compared to those without hypertension and with low levels of NT-proBNP (<125 pg/ml). Among those on antihypertensive medication, those with SBP 130-139 mm Hg and elevated NT-proBNP had increased risk of all-cause mortality, compared to those with SBP<120 mm Hg and low levels of NT-proBNP.  Conclusions:  Among a general population of adults free of cardiovascular disease, NT-proBNP can provide additional prognostic information within and across categories of BP. Measurement of NT-proBNP may have potential for clinical use to optimize hypertension treatment. ',\n",
       "  {'entities': [[38, 47, 'CONCEPT'],\n",
       "    [169, 178, 'CONCEPT'],\n",
       "    [348, 451, 'METHOD_SUMM'],\n",
       "    [484, 493, 'CONCEPT'],\n",
       "    [554, 556, 'CONCEPT'],\n",
       "    [651, 660, 'CONCEPT'],\n",
       "    [990, 999, 'CONCEPT'],\n",
       "    [1022, 1041, 'CONCEPT'],\n",
       "    [1042, 1070, 'CONF_INT'],\n",
       "    [1093, 1117, 'CONCEPT'],\n",
       "    [1118, 1147, 'CONF_INT'],\n",
       "    [1211, 1220, 'CONCEPT'],\n",
       "    [1290, 1293, 'CONCEPT'],\n",
       "    [1321, 1330, 'CONCEPT'],\n",
       "    [1397, 1400, 'CONCEPT'],\n",
       "    [1429, 1439, 'CONCEPT'],\n",
       "    [1524, 1615, 'CONC_SUMM'],\n",
       "    [1616, 1711, 'CONC_SUMM']]}],\n",
       " ['Background: The routine administration of supplemental oxygen to non-hypoxic patients with acute myocardial infarction has been abandoned for lack of mortality benefit. However, the benefits of continuous positive airway pressure (CPAP) use in patients hospitalized with acute cardiovascular disease and concomitant obstructive sleep apnea (OSA) remain to be elucidated. Methods: Using ICD-10-CM codes, we searched the 2016-2019 Nationwide Inpatient Sample for patients diagnosed with unstable angina, acute myocardial infarction (AMI), acute decompensated heart failure (ADHF), and atrial fibrillation with rapid ventricular response (AFRVR), who also carried a diagnosis of OSA. We identified in-hospital CPAP use with ICD-10-PCS codes. In-hospital death, length of stay (LOS) and hospital charges were compared between patients with and without OSA, and between OSA patients with and without CPAP use. Results: Our sample included 2,959,991 patients, of which 1.5% were diagnosed with UA, 30.3% with AMI, 37.5% with ADHF, and 45.8% with AF. OSA was present in 12.3%. Patients with OSA were more likely to be younger, male, smokers, obese, have chronic obstructive pulmonary disease, renal failure, and heart failure (p < 0.001 for all). Patients with OSA had significantly lower in-hospital mortality (aOR: 0.71, 95% CI [0.7-0.73]). Among patients with OSA, CPAP use significantly increased the odds of in-hospital death (aOR: 1.51, 95% CI [1.44-1.60]), LOS (adjusted mean difference of 1.49 days, 95% CI [1.43, 1.55]), and hospital charges (adjusted mean difference of $1168, 95% CI [273, 2062]). Conclusion: Our study showed that patients with recognized OSA and hospitalized for AMI, ADHF or AFRVR, who were not treated with CPAP, had significantly lower in-hospital mortality and resource utilization. Keywords: Myocardial infarction, Obstructive sleep apnea, Heart failure, Atrial fibrillation, Ischemic preconditioning',\n",
       "  {'entities': [[182, 265, 'STUDY_SUMM'],\n",
       "    [316, 345, 'CONCEPT'],\n",
       "    [406, 479, 'METHOD_SUMM'],\n",
       "    [502, 535, 'CONCEPT'],\n",
       "    [543, 577, 'CONCEPT'],\n",
       "    [608, 642, 'CONCEPT'],\n",
       "    [707, 711, 'CONCEPT'],\n",
       "    [721, 731, 'CONCEPT'],\n",
       "    [758, 778, 'CONCEPT'],\n",
       "    [848, 851, 'CONCEPT'],\n",
       "    [865, 868, 'CONCEPT'],\n",
       "    [895, 899, 'CONCEPT'],\n",
       "    [963, 967, 'RESULTS'],\n",
       "    [988, 990, 'CONCEPT'],\n",
       "    [992, 997, 'RESULTS'],\n",
       "    [1003, 1006, 'CONCEPT'],\n",
       "    [1008, 1013, 'RESULTS'],\n",
       "    [1019, 1023, 'CONCEPT'],\n",
       "    [1029, 1034, 'RESULTS'],\n",
       "    [1040, 1043, 'CONCEPT'],\n",
       "    [1044, 1047, 'CONCEPT'],\n",
       "    [1063, 1068, 'RESULTS'],\n",
       "    [1084, 1087, 'CONCEPT'],\n",
       "    [1219, 1238, 'RESULTS'],\n",
       "    [1254, 1257, 'CONCEPT'],\n",
       "    [1304, 1334, 'CONF_INT'],\n",
       "    [1356, 1359, 'CONCEPT'],\n",
       "    [1361, 1365, 'CONCEPT'],\n",
       "    [1424, 1455, 'CONF_INT'],\n",
       "    [1457, 1460, 'CONCEPT'],\n",
       "    [1501, 1520, 'CONF_INT'],\n",
       "    [1580, 1598, 'CONF_INT'],\n",
       "    [1623, 1808, 'CONC_SUMM']]}],\n",
       " ['Background: The most effective dosage of aspirin to prevent coronary artery abnormalities in patients with acute Kawasaki disease remains unknown. Using a Japanese national inpatient database, this study aimed to identify the appropriate dose of aspirin to be prescribed to patients with acute Kawasaki disease. Method: We used the Diagnostic Procedure Combination database to identify patients with Kawasaki disease treated with intravenous immunoglobulin between 2010 and 2021.The outcomes included the occurrence of coronary artery abnormalities and intravenous immunoglobulin resistance, length of stay, and medical costs. Restricted cubic spline functions were performed to examine the association between aspirin dose and the outcomes. Results: Data of 82109 patients were extracted from the database. Non-linear associations were observed between aspirin dose and the outcomes. In comparison with an aspirin dose of 30 mg/kg/day, the odds ratio (95% confidence interval) for coronary artery abnormalities was 1.40 (1.13-1.75) at 5 mg/kg/day. An aspirin dose of {greater than or equal to}30 mg/kg/day did not significantly change the odds ratio for coronary artery abnormalities. Compared with a dose of 30 mg/kg/day, the odds ratio (95% confidence interval) for intravenous immunoglobulin resistance was 0.87 (0.76-1.00) at 5 mg/kg/day and 0.59 (0.36-0.98) at 80 mg/kg/day. An increase in aspirin dose was associated with a shorter length of stay and lower medical costs. Conclusions: Low-dose aspirin may increase the risk of coronary artery abnormalities in patients with acute Kawasaki disease; however, increasing aspirin doses beyond the standard doses may not be associated with a reduction in coronary artery abnormalities. High-dose aspirin showed the potential to reduce hospital stay and medical costs without increasing complications.',\n",
       "  {'entities': [[41, 48, 'CONCEPT'],\n",
       "    [60, 89, 'CONCEPT'],\n",
       "    [107, 129, 'CONCEPT'],\n",
       "    [213, 311, 'STUDY_SUMM'],\n",
       "    [323, 456, 'METHOD_SUMM'],\n",
       "    [519, 548, 'CONCEPT'],\n",
       "    [553, 590, 'CONCEPT'],\n",
       "    [592, 606, 'CONCEPT'],\n",
       "    [612, 626, 'CONCEPT'],\n",
       "    [982, 1011, 'CONCEPT'],\n",
       "    [1016, 1032, 'CONF_INT'],\n",
       "    [1155, 1185, 'CONCEPT'],\n",
       "    [1311, 1327, 'CONF_INT'],\n",
       "    [1347, 1363, 'CONF_INT'],\n",
       "    [1396, 1403, 'CONCEPT'],\n",
       "    [1492, 1603, 'CONC_SUMM']]}],\n",
       " ['Objective: To explore the use of ChatGPT by educators and students in a medical school setting. Method: This study used the public version of ChatGPT launched by OpenAI on November 30, 2022 (https://openai.com/blog/chatgpt/). We employed prompts to ask ChatGPT to 1) generate a content outline for a session on the topics of cholesterol, lipoproteins, and hyperlipidemia for medical students; 2) produce a list of learning objectives for the session; and 3) write assessment questions with and without clinical vignettes related to the identified learning objectives. We assessed the responses by ChatGPT for accuracy and reliability to determine the potential of the chatbot as an aid to educators and as a know-it-all medical information provider for students.  Results: ChatGPT can function as an aid to educators, but it is not yet suitable as a reliable information resource for educators and medical students. Conclusion: ChatGPT can be a useful tool to assist medical educators draft course and session content outlines and create assessment questions. At the same time, caution must be taken as ChatGPT is prone to providing incorrect information; expert oversight and caution are necessary to ensure the information generated is accurate and beneficial to students. Therefore, it is premature for medical students to use the current version of ChatGPT as a know-it-all information provider. In the future, medical educators should work with programming experts to explore and grow the full potential of AI in medical education.',\n",
       "  {'entities': [[14, 95, 'STUDY_SUMM'],\n",
       "    [142, 149, 'CONCEPT'],\n",
       "    [229, 567, 'METHOD_SUMM'],\n",
       "    [597, 604, 'CONCEPT'],\n",
       "    [773, 780, 'CONCEPT'],\n",
       "    [928, 1059, 'CONC_SUMM'],\n",
       "    [1103, 1110, 'CONCEPT'],\n",
       "    [1353, 1360, 'CONCEPT']]}],\n",
       " ['Detection of large vessel occlusion (LVO) using machine learning on computed tomography angiography (CTA) may help stroke triage, yet applicability across varied patient and image characteristics has not been examined.  The study will examine which characteristics are important when using a convolutional neural network to identify LVO on CTA. A retrospective cohort study (November 2017 through May 2019) at a comprehensive stroke center evaluated 677 stroke-alerted patients with an LVO of the internal carotid artery, M1, or M2 (n=150), and a matching number without LVO was included. An Inception module-based network was trained for binary classification of LVO presence. Results were examined by LVO location, window settings, non-LVO findings, demographics, risk factors, presentation status, and times, interventions, and outcomes. Three hundred patients were included (48% women; median age 65). Mean+/-95% CI for cross-validation test and external validation, respectively, are area under precision-recall curve 0.871+/-0.094 and 0.742+/-0.018 and area under receiver operating characteristic curve 0.920+/-0.051 and 0.852+/-0.004. 145 true positive (TP), 5 false negative (FN), 39 false positive (FP), and 111 true negative (TN) patients were identified. Significant comparisons (P<0.05) were identified: lower window settings for misclassifications, smoking history for all FN versus 33% TP (P=0.005), and tissue plasminogen activator treatment for 41% FP versus 20% TN (P=0.017). Our LVO detection tool had high performance across patient characteristics with few exceptions. FP had pathology warranting detection, including distal occlusions. Lower window settings among misclassifications highlight the need for image quality when using machine learning for decision support.',\n",
       "  {'entities': [[13, 41, 'CONCEPT'],\n",
       "    [68, 105, 'CONCEPT'],\n",
       "    [115, 128, 'CONCEPT'],\n",
       "    [235, 320, 'STUDY_SUMM'],\n",
       "    [333, 336, 'CONCEPT'],\n",
       "    [340, 344, 'CONCEPT'],\n",
       "    [347, 520, 'METHOD_SUMM'],\n",
       "    [522, 524, 'CONCEPT'],\n",
       "    [529, 531, 'CONCEPT'],\n",
       "    [571, 574, 'CONCEPT'],\n",
       "    [664, 667, 'CONCEPT'],\n",
       "    [703, 706, 'CONCEPT'],\n",
       "    [1023, 1036, 'CONF_INT'],\n",
       "    [1041, 1054, 'CONF_INT'],\n",
       "    [1110, 1123, 'CONF_INT'],\n",
       "    [1128, 1142, 'CONF_INT'],\n",
       "    [1147, 1165, 'CONCEPT'],\n",
       "    [1169, 1188, 'CONCEPT'],\n",
       "    [1193, 1212, 'CONCEPT'],\n",
       "    [1222, 1240, 'CONCEPT'],\n",
       "    [1291, 1299, 'RESULTS'],\n",
       "    [1397, 1400, 'RESULTS'],\n",
       "    [1404, 1413, 'RESULTS'],\n",
       "    [1462, 1465, 'RESULTS'],\n",
       "    [1476, 1479, 'RESULTS'],\n",
       "    [1483, 1492, 'RESULTS']]}]]"
      ]
     },
     "execution_count": 54,
     "metadata": {},
     "output_type": "execute_result"
    }
   ],
   "source": [
    "list_data"
   ]
  },
  {
   "cell_type": "code",
   "execution_count": 79,
   "id": "3be98afc",
   "metadata": {},
   "outputs": [],
   "source": [
    "test_text1 ='''\n",
    "Background and objectives. SARS-CoV-2 infection causes a spectrum of clinical disease presentation, ranging from asymptomatic to fatal. While neutralising antibody (NAb) responses correlate with protection against symptomatic and severe infection, the contribution of the T cell response to the resolution or progression of disease is still unclear. Optimal protective immunity may require activation of distinct immune pathways. As such, defining the contribution of individual T cell subsets to disease outcome is imperative to inform the development of next-generation COVID-19 vaccines. To address this, we performed immunophenotyping of T cell responses in unvaccinated individuals, representing the full spectrum of COVID-19 clinical presentation. Methods. Spectral cytometry was performed on peripheral blood mononuclear cell samples from patients with PCR-confirmed SARS-CoV-2 infection. Computational and manual analyses were used to identify T cell populations associated with distinct disease states through unbiased clustering, principal component analysis and discriminant analysis. Results. Critical SARS-CoV-2 infection was characterised by an increase in activated and cytotoxic CD4+ (CTL) cells of a T follicular helper (TFH) or effector memory re-expressing CD45RA (TEMRA) phenotype. These CD4+ CTLs were largely absent in those with less severe disease. In contrast, those with asymptomatic or mild disease were associated with high proportions of naive T cells and reduced expression of activation markers. Conclusion. Highly activated and cytotoxic CD4+ T cell responses may contribute to cell-mediated host tissue damage and progression of COVID-19. Potential for induction of these detrimental T cell responses should be considered when developing and implementing effective COVID-19 control strategies.'''"
   ]
  },
  {
   "cell_type": "code",
   "execution_count": 86,
   "id": "7b3b7ac4",
   "metadata": {},
   "outputs": [],
   "source": [
    "test_text2 = '''\n",
    "Background and Objectives: Cancer survivors are less likely than comparably-aged individuals without a cancer history to develop Alzheimer's disease and related dementias (ADRD). We investigated the association between cancer history and structural magnetic resonance imaging (MRI) markers for ADRD risk, using linear mixed-effects models to assess differences at the mean values of MRI markers and quantile regression to examine whether the association varies across the distribution of MRI markers of brain aging. Methods: Among UK Biobank participants with ≥1 brain MRI, we considered total gray matter volume, total brain volume, hippocampal volume, white matter hyperintensity volume, and mean cortical thickness in the Alzheimer's disease (AD) signature region. Cancer history was ascertained from national registry and self-report. We first specified linear mixed models with random intercepts to assess mean differences in MRI markers according to cancer history. Next, to examine whether effects of cancer history on these markers varies across the ADRD risk distribution, we specified quantile regression models to assess differences in quantile cut-points of the distribution of MRI markers according to cancer history. Models adjusted for demographics, APOE-ε4 status, and health behaviors. Results: The sample included 42,242 MRIs on 37,588 participants with no cancer history (mean age 64.1 years), and 6,073 MRIs on 5,514 participants with a cancer diagnosis prior to MRI (mean age 66.7 years). Cancer history was associated with smaller mean hippocampal volume (b=-19 mm3, 95% confidence interval [CI]=-36, -1) and lower mean cortical thickness in the AD signature region (b=-0.004 mm, 95% CI=-0.007, -0.000). Quantile regressions indicated cancer history had larger effects on high quantiles of white matter hyperintensities (10th percentile b=-49 mm3, 95% CI=-112, 19; 90th percentile b=552 mm3, 95% CI= 250, 1002) and low quantiles of cortical thickness (10th percentile b=-0.006 mm, 95% CI=-0.011, -0.000; 90th percentile b=0.003 mm3, 95% CI=-0.003, 0.007), indicating individuals most vulnerable to ADRD were more affected by cancer history. Discussion: We found no evidence that cancer history was associated with less ADRD-related neurodegeneration. To the contrary, adults with cancer history had worse MRI indicators of dementia risk. Adverse associations were largest in the highest-risk quantiles of neuroimaging markers.\n",
    "'''"
   ]
  },
  {
   "cell_type": "code",
   "execution_count": 80,
   "id": "e7f60fb4",
   "metadata": {},
   "outputs": [],
   "source": [
    "doc1  = nlp(test_text)"
   ]
  },
  {
   "cell_type": "code",
   "execution_count": 81,
   "id": "6f205f69",
   "metadata": {},
   "outputs": [
    {
     "data": {
      "text/html": [
       "<span class=\"tex2jax_ignore\"><div class=\"entities\" style=\"line-height: 2.5; direction: ltr\"></br>Background and objectives. \n",
       "<mark class=\"entity\" style=\"background: #ddd; padding: 0.45em 0.6em; margin: 0 0.25em; line-height: 1; border-radius: 0.35em;\">\n",
       "    SARS-CoV-2 infection\n",
       "    <span style=\"font-size: 0.8em; font-weight: bold; line-height: 1; border-radius: 0.35em; vertical-align: middle; margin-left: 0.5rem\">CONCEPT</span>\n",
       "</mark>\n",
       " causes a spectrum of clinical disease presentation, ranging from asymptomatic to fatal. While neutralising antibody (NAb) responses correlate with protection against symptomatic and severe infection, the contribution of the T cell response to the resolution or progression of disease is still unclear. Optimal protective immunity may require activation of distinct immune pathways. As such, defining the contribution of individual T cell subsets to disease outcome is imperative to inform the development of next-generation \n",
       "<mark class=\"entity\" style=\"background: #ddd; padding: 0.45em 0.6em; margin: 0 0.25em; line-height: 1; border-radius: 0.35em;\">\n",
       "    COVID-19 vaccines.\n",
       "    <span style=\"font-size: 0.8em; font-weight: bold; line-height: 1; border-radius: 0.35em; vertical-align: middle; margin-left: 0.5rem\">CONCEPT</span>\n",
       "</mark>\n",
       " To address this, we performed immunophenotyping of T cell responses in unvaccinated individuals, representing the full spectrum of COVID-19 clinical presentation. Methods. \n",
       "<mark class=\"entity\" style=\"background: #ddd; padding: 0.45em 0.6em; margin: 0 0.25em; line-height: 1; border-radius: 0.35em;\">\n",
       "    Spectral cytometry was performed on peripheral blood mononuclear cell samples from patients with PCR-confirmed SARS-CoV-2 infection.\n",
       "    <span style=\"font-size: 0.8em; font-weight: bold; line-height: 1; border-radius: 0.35em; vertical-align: middle; margin-left: 0.5rem\">METHOD_SUMM</span>\n",
       "</mark>\n",
       " Computational and manual analyses were used to identify \n",
       "<mark class=\"entity\" style=\"background: #ddd; padding: 0.45em 0.6em; margin: 0 0.25em; line-height: 1; border-radius: 0.35em;\">\n",
       "    T cell populations associated\n",
       "    <span style=\"font-size: 0.8em; font-weight: bold; line-height: 1; border-radius: 0.35em; vertical-align: middle; margin-left: 0.5rem\">CONCEPT</span>\n",
       "</mark>\n",
       " with distinct disease states through unbiased clustering, principal component analysis and discriminant analysis. Results. Critical \n",
       "<mark class=\"entity\" style=\"background: #ddd; padding: 0.45em 0.6em; margin: 0 0.25em; line-height: 1; border-radius: 0.35em;\">\n",
       "    SARS-CoV-2 infection\n",
       "    <span style=\"font-size: 0.8em; font-weight: bold; line-height: 1; border-radius: 0.35em; vertical-align: middle; margin-left: 0.5rem\">CONCEPT</span>\n",
       "</mark>\n",
       " was characterised by an increase in activated and cytotoxic CD4+ (CTL) cells of a T follicular helper (TFH) or effector memory re-expressing CD45RA (TEMRA) phenotype. These CD4+ CTLs were largely absent in those with less severe disease. In contrast, those with asymptomatic or mild disease were associated with high proportions of naive T cells and reduced expression of activation markers. Conclusion. Highly activated and cytotoxic CD4+ T cell responses may contribute to cell-mediated host tissue damage and progression of \n",
       "<mark class=\"entity\" style=\"background: #ddd; padding: 0.45em 0.6em; margin: 0 0.25em; line-height: 1; border-radius: 0.35em;\">\n",
       "    COVID-19.\n",
       "    <span style=\"font-size: 0.8em; font-weight: bold; line-height: 1; border-radius: 0.35em; vertical-align: middle; margin-left: 0.5rem\">CONCEPT</span>\n",
       "</mark>\n",
       " Potential for induction of these detrimental T cell responses should be considered when developing and implementing effective COVID-19 control strategies.</div></span>"
      ],
      "text/plain": [
       "<IPython.core.display.HTML object>"
      ]
     },
     "metadata": {},
     "output_type": "display_data"
    }
   ],
   "source": [
    "displacy.render(doc1,style = 'ent')"
   ]
  },
  {
   "cell_type": "code",
   "execution_count": 87,
   "id": "7f29f7a0",
   "metadata": {},
   "outputs": [],
   "source": [
    "doc2 = nlp(test_text2)"
   ]
  },
  {
   "cell_type": "code",
   "execution_count": null,
   "id": "75eb5654",
   "metadata": {},
   "outputs": [],
   "source": [
    "for i in doc2.ents:\n",
    "    if i.label_ == 'CONCEPT':\n",
    "        \n",
    "    if i.label_ == 'METHOD_SUMM':\n",
    "    \n",
    "    if i.label_ == 'STUDY_SUMM':\n",
    "    \n",
    "    if i.label_ == 'CONC_SUMM':\n",
    "    \n",
    "    if i.label_ == 'RESULTS':\n",
    "    \n",
    "    if i.label_ == 'CONF_INT':"
   ]
  },
  {
   "cell_type": "code",
   "execution_count": 106,
   "id": "428470a7",
   "metadata": {},
   "outputs": [
    {
     "data": {
      "text/plain": [
       "[('Cancer', 'CONCEPT'),\n",
       " (\"Alzheimer's disease and related dementias (\", 'METHOD_SUMM'),\n",
       " ('association between cancer history and structural magnetic resonance imaging (MRI)',\n",
       "  'CONC_SUMM'),\n",
       " ('whether the association varies across the distribution of MRI markers of brain aging.',\n",
       "  'STUDY_SUMM'),\n",
       " ('self-report.', 'METHOD_SUMM'),\n",
       " ('MRIs', 'CONCEPT'),\n",
       " ('(b=-19 mm3, 95% confidence interval [CI]=-36, -1)', 'RESULTS'),\n",
       " ('95% CI=-0.007', 'RESULTS'),\n",
       " ('95% CI=-112', 'RESULTS'),\n",
       " ('95% CI= 250, 1002)', 'CONF_INT'),\n",
       " ('95% CI=-0.011, -0.000; 90th percentile b=0.003 mm3, 95% CI=-0.003, 0.007)',\n",
       "  'CONF_INT'),\n",
       " ('ADRD', 'CONCEPT'),\n",
       " ('ADRD-related neurodegeneration.', 'CONCEPT')]"
      ]
     },
     "execution_count": 106,
     "metadata": {},
     "output_type": "execute_result"
    }
   ],
   "source": [
    "[(ent.text, ent.label_) for ent in doc2.ents]"
   ]
  },
  {
   "cell_type": "code",
   "execution_count": 88,
   "id": "53e22b54",
   "metadata": {},
   "outputs": [
    {
     "data": {
      "text/html": [
       "<span class=\"tex2jax_ignore\"><div class=\"entities\" style=\"line-height: 2.5; direction: ltr\"></br>Background and Objectives: \n",
       "<mark class=\"entity\" style=\"background: #ddd; padding: 0.45em 0.6em; margin: 0 0.25em; line-height: 1; border-radius: 0.35em;\">\n",
       "    Cancer\n",
       "    <span style=\"font-size: 0.8em; font-weight: bold; line-height: 1; border-radius: 0.35em; vertical-align: middle; margin-left: 0.5rem\">CONCEPT</span>\n",
       "</mark>\n",
       " survivors are less likely than comparably-aged individuals without a cancer history to develop \n",
       "<mark class=\"entity\" style=\"background: #ddd; padding: 0.45em 0.6em; margin: 0 0.25em; line-height: 1; border-radius: 0.35em;\">\n",
       "    Alzheimer's disease and related dementias (\n",
       "    <span style=\"font-size: 0.8em; font-weight: bold; line-height: 1; border-radius: 0.35em; vertical-align: middle; margin-left: 0.5rem\">METHOD_SUMM</span>\n",
       "</mark>\n",
       "ADRD). We investigated the \n",
       "<mark class=\"entity\" style=\"background: #ddd; padding: 0.45em 0.6em; margin: 0 0.25em; line-height: 1; border-radius: 0.35em;\">\n",
       "    association between cancer history and structural magnetic resonance imaging (MRI)\n",
       "    <span style=\"font-size: 0.8em; font-weight: bold; line-height: 1; border-radius: 0.35em; vertical-align: middle; margin-left: 0.5rem\">CONC_SUMM</span>\n",
       "</mark>\n",
       " markers for ADRD risk, using linear mixed-effects models to assess differences at the mean values of MRI markers and quantile regression to examine \n",
       "<mark class=\"entity\" style=\"background: #ddd; padding: 0.45em 0.6em; margin: 0 0.25em; line-height: 1; border-radius: 0.35em;\">\n",
       "    whether the association varies across the distribution of MRI markers of brain aging.\n",
       "    <span style=\"font-size: 0.8em; font-weight: bold; line-height: 1; border-radius: 0.35em; vertical-align: middle; margin-left: 0.5rem\">STUDY_SUMM</span>\n",
       "</mark>\n",
       " Methods: Among UK Biobank participants with ≥1 brain MRI, we considered total gray matter volume, total brain volume, hippocampal volume, white matter hyperintensity volume, and mean cortical thickness in the Alzheimer's disease (AD) signature region. Cancer history was ascertained from national registry and \n",
       "<mark class=\"entity\" style=\"background: #ddd; padding: 0.45em 0.6em; margin: 0 0.25em; line-height: 1; border-radius: 0.35em;\">\n",
       "    self-report.\n",
       "    <span style=\"font-size: 0.8em; font-weight: bold; line-height: 1; border-radius: 0.35em; vertical-align: middle; margin-left: 0.5rem\">METHOD_SUMM</span>\n",
       "</mark>\n",
       " We first specified linear mixed models with random intercepts to assess mean differences in MRI markers according to cancer history. Next, to examine whether effects of cancer history on these markers varies across the ADRD risk distribution, we specified quantile regression models to assess differences in quantile cut-points of the distribution of MRI markers according to cancer history. Models adjusted for demographics, APOE-ε4 status, and health behaviors. Results: The sample included 42,242 \n",
       "<mark class=\"entity\" style=\"background: #ddd; padding: 0.45em 0.6em; margin: 0 0.25em; line-height: 1; border-radius: 0.35em;\">\n",
       "    MRIs\n",
       "    <span style=\"font-size: 0.8em; font-weight: bold; line-height: 1; border-radius: 0.35em; vertical-align: middle; margin-left: 0.5rem\">CONCEPT</span>\n",
       "</mark>\n",
       " on 37,588 participants with no cancer history (mean age 64.1 years), and 6,073 MRIs on 5,514 participants with a cancer diagnosis prior to MRI (mean age 66.7 years). Cancer history was associated with smaller mean hippocampal volume \n",
       "<mark class=\"entity\" style=\"background: #ddd; padding: 0.45em 0.6em; margin: 0 0.25em; line-height: 1; border-radius: 0.35em;\">\n",
       "    (b=-19 mm3, 95% confidence interval [CI]=-36, -1)\n",
       "    <span style=\"font-size: 0.8em; font-weight: bold; line-height: 1; border-radius: 0.35em; vertical-align: middle; margin-left: 0.5rem\">RESULTS</span>\n",
       "</mark>\n",
       " and lower mean cortical thickness in the AD signature region (b=-0.004 mm, \n",
       "<mark class=\"entity\" style=\"background: #ddd; padding: 0.45em 0.6em; margin: 0 0.25em; line-height: 1; border-radius: 0.35em;\">\n",
       "    95% CI=-0.007\n",
       "    <span style=\"font-size: 0.8em; font-weight: bold; line-height: 1; border-radius: 0.35em; vertical-align: middle; margin-left: 0.5rem\">RESULTS</span>\n",
       "</mark>\n",
       ", -0.000). Quantile regressions indicated cancer history had larger effects on high quantiles of white matter hyperintensities (10th percentile b=-49 mm3, \n",
       "<mark class=\"entity\" style=\"background: #ddd; padding: 0.45em 0.6em; margin: 0 0.25em; line-height: 1; border-radius: 0.35em;\">\n",
       "    95% CI=-112\n",
       "    <span style=\"font-size: 0.8em; font-weight: bold; line-height: 1; border-radius: 0.35em; vertical-align: middle; margin-left: 0.5rem\">RESULTS</span>\n",
       "</mark>\n",
       ", 19; 90th percentile b=552 mm3, \n",
       "<mark class=\"entity\" style=\"background: #ddd; padding: 0.45em 0.6em; margin: 0 0.25em; line-height: 1; border-radius: 0.35em;\">\n",
       "    95% CI= 250, 1002)\n",
       "    <span style=\"font-size: 0.8em; font-weight: bold; line-height: 1; border-radius: 0.35em; vertical-align: middle; margin-left: 0.5rem\">CONF_INT</span>\n",
       "</mark>\n",
       " and low quantiles of cortical thickness (10th percentile b=-0.006 mm, \n",
       "<mark class=\"entity\" style=\"background: #ddd; padding: 0.45em 0.6em; margin: 0 0.25em; line-height: 1; border-radius: 0.35em;\">\n",
       "    95% CI=-0.011, -0.000; 90th percentile b=0.003 mm3, 95% CI=-0.003, 0.007)\n",
       "    <span style=\"font-size: 0.8em; font-weight: bold; line-height: 1; border-radius: 0.35em; vertical-align: middle; margin-left: 0.5rem\">CONF_INT</span>\n",
       "</mark>\n",
       ", indicating individuals most vulnerable to \n",
       "<mark class=\"entity\" style=\"background: #ddd; padding: 0.45em 0.6em; margin: 0 0.25em; line-height: 1; border-radius: 0.35em;\">\n",
       "    ADRD\n",
       "    <span style=\"font-size: 0.8em; font-weight: bold; line-height: 1; border-radius: 0.35em; vertical-align: middle; margin-left: 0.5rem\">CONCEPT</span>\n",
       "</mark>\n",
       " were more affected by cancer history. Discussion: We found no evidence that cancer history was associated with less \n",
       "<mark class=\"entity\" style=\"background: #ddd; padding: 0.45em 0.6em; margin: 0 0.25em; line-height: 1; border-radius: 0.35em;\">\n",
       "    ADRD-related neurodegeneration.\n",
       "    <span style=\"font-size: 0.8em; font-weight: bold; line-height: 1; border-radius: 0.35em; vertical-align: middle; margin-left: 0.5rem\">CONCEPT</span>\n",
       "</mark>\n",
       " To the contrary, adults with cancer history had worse MRI indicators of dementia risk. Adverse associations were largest in the highest-risk quantiles of neuroimaging markers.</br></div></span>"
      ],
      "text/plain": [
       "<IPython.core.display.HTML object>"
      ]
     },
     "metadata": {},
     "output_type": "display_data"
    }
   ],
   "source": [
    "displacy.render(doc2,style = 'ent')"
   ]
  },
  {
   "cell_type": "markdown",
   "id": "a8e643a0",
   "metadata": {},
   "source": [
    "## Save Model For Later Import"
   ]
  },
  {
   "cell_type": "code",
   "execution_count": 93,
   "id": "35f8556c",
   "metadata": {},
   "outputs": [
    {
     "data": {
      "text/plain": [
       "PosixPath('model')"
      ]
     },
     "execution_count": 93,
     "metadata": {},
     "output_type": "execute_result"
    }
   ],
   "source": [
    "output_dir"
   ]
  },
  {
   "cell_type": "code",
   "execution_count": 92,
   "id": "1fd01951",
   "metadata": {},
   "outputs": [
    {
     "name": "stdout",
     "output_type": "stream",
     "text": [
      "saved model to model\n"
     ]
    }
   ],
   "source": [
    "if output_dir is not None:\n",
    "    output_dir = Path(output_dir)\n",
    "    if not output_dir.exists():\n",
    "        output_dir.mkdir()\n",
    "    nlp.to_disk(output_dir)\n",
    "    print(\"saved model to\",output_dir)"
   ]
  },
  {
   "cell_type": "code",
   "execution_count": 100,
   "id": "e6df556c",
   "metadata": {},
   "outputs": [],
   "source": [
    "abstract_ner_model = spacy.load('./model/')\n",
    "doc3 = abstract_ner_model(test_text2)\n",
    "displacy.render(doc3,style='ent')"
   ]
  },
  {
   "cell_type": "code",
   "execution_count": null,
   "id": "999fc90e",
   "metadata": {},
   "outputs": [],
   "source": []
  }
 ],
 "metadata": {
  "kernelspec": {
   "display_name": "Python 3 (ipykernel)",
   "language": "python",
   "name": "python3"
  },
  "language_info": {
   "codemirror_mode": {
    "name": "ipython",
    "version": 3
   },
   "file_extension": ".py",
   "mimetype": "text/x-python",
   "name": "python",
   "nbconvert_exporter": "python",
   "pygments_lexer": "ipython3",
   "version": "3.11.1"
  }
 },
 "nbformat": 4,
 "nbformat_minor": 5
}
