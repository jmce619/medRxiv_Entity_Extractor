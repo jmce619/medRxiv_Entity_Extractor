{
 "cells": [
  {
   "cell_type": "code",
   "execution_count": 8,
   "id": "d99e6938",
   "metadata": {},
   "outputs": [],
   "source": [
    "from medrxiv_scraper import medRxivExtractor "
   ]
  },
  {
   "cell_type": "markdown",
   "id": "72b01593",
   "metadata": {},
   "source": [
    "## Create Training Data "
   ]
  },
  {
   "cell_type": "code",
   "execution_count": 12,
   "id": "e92f23db",
   "metadata": {},
   "outputs": [],
   "source": [
    "extractor = medRxivExtractor()"
   ]
  },
  {
   "cell_type": "code",
   "execution_count": 13,
   "id": "542a496a",
   "metadata": {},
   "outputs": [
    {
     "name": "stderr",
     "output_type": "stream",
     "text": [
      "/Users/jmcelhin/Desktop/repos/medRxiv_Entity_Extractor/medrxiv_scraper.py:11: GuessedAtParserWarning: No parser was explicitly specified, so I'm using the best available HTML parser for this system (\"html.parser\"). This usually isn't a problem, but if you run this code on another system, or in a different virtual environment, it may use a different parser and behave differently.\n",
      "\n",
      "The code that caused this warning is on line 11 of the file /Users/jmcelhin/Desktop/repos/medRxiv_Entity_Extractor/medrxiv_scraper.py. To get rid of this warning, pass the additional argument 'features=\"html.parser\"' to the BeautifulSoup constructor.\n",
      "\n",
      "  content = res.content\n",
      "/Users/jmcelhin/Desktop/repos/medRxiv_Entity_Extractor/medrxiv_scraper.py:39: GuessedAtParserWarning: No parser was explicitly specified, so I'm using the best available HTML parser for this system (\"html.parser\"). This usually isn't a problem, but if you run this code on another system, or in a different virtual environment, it may use a different parser and behave differently.\n",
      "\n",
      "The code that caused this warning is on line 39 of the file /Users/jmcelhin/Desktop/repos/medRxiv_Entity_Extractor/medrxiv_scraper.py. To get rid of this warning, pass the additional argument 'features=\"html.parser\"' to the BeautifulSoup constructor.\n",
      "\n",
      "  res = requests.get(href)\n"
     ]
    },
    {
     "name": "stdout",
     "output_type": "stream",
     "text": [
      "Warning: # Abstracts != # Links (11, 10)\n"
     ]
    }
   ],
   "source": [
    "abstracts = extractor()"
   ]
  },
  {
   "cell_type": "code",
   "execution_count": 20,
   "id": "2585e73f",
   "metadata": {},
   "outputs": [],
   "source": [
    "def clean_train_data(input_list):\n",
    "    clean_list = []\n",
    "    for i in input_list:\n",
    "        clean_list.append(i.replace('\\n','').replace('<p>','').replace('</p>',''))\n",
    "        \n",
    "    return list(set(clean_list))\n",
    "        "
   ]
  },
  {
   "cell_type": "code",
   "execution_count": 25,
   "id": "e2b5d2b1",
   "metadata": {},
   "outputs": [],
   "source": [
    "train_data = clean_train_data(abstracts)"
   ]
  },
  {
   "cell_type": "code",
   "execution_count": 27,
   "id": "10f9f0b3",
   "metadata": {
    "scrolled": false
   },
   "outputs": [],
   "source": [
    "with open('train_data.txt','w') as f:\n",
    "    for i in train_data:\n",
    "        f.write(i)\n",
    "        f.write('\\n\\n')"
   ]
  },
  {
   "cell_type": "code",
   "execution_count": null,
   "id": "25147d8a",
   "metadata": {},
   "outputs": [],
   "source": []
  },
  {
   "cell_type": "code",
   "execution_count": null,
   "id": "8c209217",
   "metadata": {},
   "outputs": [],
   "source": []
  }
 ],
 "metadata": {
  "kernelspec": {
   "display_name": "Python 3 (ipykernel)",
   "language": "python",
   "name": "python3"
  },
  "language_info": {
   "codemirror_mode": {
    "name": "ipython",
    "version": 3
   },
   "file_extension": ".py",
   "mimetype": "text/x-python",
   "name": "python",
   "nbconvert_exporter": "python",
   "pygments_lexer": "ipython3",
   "version": "3.11.1"
  }
 },
 "nbformat": 4,
 "nbformat_minor": 5
}
