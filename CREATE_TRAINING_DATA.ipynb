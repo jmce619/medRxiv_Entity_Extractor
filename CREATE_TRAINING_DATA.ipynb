{
 "cells": [
  {
   "cell_type": "code",
   "execution_count": 8,
   "id": "efca7bf0",
   "metadata": {},
   "outputs": [],
   "source": [
    "from medrxiv_scraper import medRxivExtractor "
   ]
  },
  {
   "cell_type": "markdown",
   "id": "816f20e4",
   "metadata": {},
   "source": [
    "## Create Training Data "
   ]
  },
  {
   "cell_type": "code",
   "execution_count": 12,
   "id": "2c590bc7",
   "metadata": {},
   "outputs": [],
   "source": [
    "extractor = medRxivExtractor()"
   ]
  },
  {
   "cell_type": "code",
   "execution_count": 13,
   "id": "04f2e609",
   "metadata": {},
   "outputs": [
    {
     "name": "stderr",
     "output_type": "stream",
     "text": [
      "/Users/jmcelhin/Desktop/repos/medRxiv_Entity_Extractor/medrxiv_scraper.py:11: GuessedAtParserWarning: No parser was explicitly specified, so I'm using the best available HTML parser for this system (\"html.parser\"). This usually isn't a problem, but if you run this code on another system, or in a different virtual environment, it may use a different parser and behave differently.\n",
      "\n",
      "The code that caused this warning is on line 11 of the file /Users/jmcelhin/Desktop/repos/medRxiv_Entity_Extractor/medrxiv_scraper.py. To get rid of this warning, pass the additional argument 'features=\"html.parser\"' to the BeautifulSoup constructor.\n",
      "\n",
      "  content = res.content\n",
      "/Users/jmcelhin/Desktop/repos/medRxiv_Entity_Extractor/medrxiv_scraper.py:39: GuessedAtParserWarning: No parser was explicitly specified, so I'm using the best available HTML parser for this system (\"html.parser\"). This usually isn't a problem, but if you run this code on another system, or in a different virtual environment, it may use a different parser and behave differently.\n",
      "\n",
      "The code that caused this warning is on line 39 of the file /Users/jmcelhin/Desktop/repos/medRxiv_Entity_Extractor/medrxiv_scraper.py. To get rid of this warning, pass the additional argument 'features=\"html.parser\"' to the BeautifulSoup constructor.\n",
      "\n",
      "  res = requests.get(href)\n"
     ]
    },
    {
     "name": "stdout",
     "output_type": "stream",
     "text": [
      "Warning: # Abstracts != # Links (11, 10)\n"
     ]
    }
   ],
   "source": [
    "abstracts = extractor()"
   ]
  },
  {
   "cell_type": "code",
   "execution_count": 20,
   "id": "799bc8d2",
   "metadata": {},
   "outputs": [],
   "source": [
    "def clean_train_data(input_list):\n",
    "    clean_list = []\n",
    "    for i in input_list:\n",
    "        clean_list.append(i.replace('\\n','').replace('<p>','').replace('</p>',''))\n",
    "        \n",
    "    return list(set(clean_list))\n",
    "        "
   ]
  },
  {
   "cell_type": "code",
   "execution_count": 25,
   "id": "eea6ed31",
   "metadata": {},
   "outputs": [],
   "source": [
    "train_data = clean_train_data(abstracts)"
   ]
  },
  {
   "cell_type": "markdown",
   "id": "a40e3e4f",
   "metadata": {},
   "source": [
    "## Append Data to Txt File For Annotator"
   ]
  },
  {
   "cell_type": "code",
   "execution_count": 27,
   "id": "1a6304ba",
   "metadata": {
    "scrolled": false
   },
   "outputs": [],
   "source": [
    "with open('train_data.txt','w') as f:\n",
    "    for i in train_data:\n",
    "        f.write(i)\n",
    "        f.write('\\n\\n')"
   ]
  },
  {
   "cell_type": "code",
   "execution_count": null,
   "id": "5dbb16fa",
   "metadata": {},
   "outputs": [],
   "source": []
  },
  {
   "cell_type": "code",
   "execution_count": null,
   "id": "2f1ba138",
   "metadata": {},
   "outputs": [],
   "source": []
  }
 ],
 "metadata": {
  "kernelspec": {
   "display_name": "Python 3 (ipykernel)",
   "language": "python",
   "name": "python3"
  },
  "language_info": {
   "codemirror_mode": {
    "name": "ipython",
    "version": 3
   },
   "file_extension": ".py",
   "mimetype": "text/x-python",
   "name": "python",
   "nbconvert_exporter": "python",
   "pygments_lexer": "ipython3",
   "version": "3.11.1"
  }
 },
 "nbformat": 4,
 "nbformat_minor": 5
}
