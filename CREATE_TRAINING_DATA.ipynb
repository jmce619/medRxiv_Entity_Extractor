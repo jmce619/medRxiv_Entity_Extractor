{
 "cells": [
  {
   "cell_type": "code",
   "execution_count": 2,
   "id": "efca7bf0",
   "metadata": {},
   "outputs": [],
   "source": [
    "from medrxiv_scraper import medRxivExtractor \n",
    "import requests\n",
    "from bs4 import BeautifulSoup"
   ]
  },
  {
   "cell_type": "markdown",
   "id": "816f20e4",
   "metadata": {},
   "source": [
    "## Create Training Data "
   ]
  },
  {
   "cell_type": "code",
   "execution_count": 12,
   "id": "2c590bc7",
   "metadata": {},
   "outputs": [],
   "source": [
    "extractor = medRxivExtractor()"
   ]
  },
  {
   "cell_type": "code",
   "execution_count": 13,
   "id": "04f2e609",
   "metadata": {},
   "outputs": [
    {
     "name": "stderr",
     "output_type": "stream",
     "text": [
      "/Users/jmcelhin/Desktop/repos/medRxiv_Entity_Extractor/medrxiv_scraper.py:11: GuessedAtParserWarning: No parser was explicitly specified, so I'm using the best available HTML parser for this system (\"html.parser\"). This usually isn't a problem, but if you run this code on another system, or in a different virtual environment, it may use a different parser and behave differently.\n",
      "\n",
      "The code that caused this warning is on line 11 of the file /Users/jmcelhin/Desktop/repos/medRxiv_Entity_Extractor/medrxiv_scraper.py. To get rid of this warning, pass the additional argument 'features=\"html.parser\"' to the BeautifulSoup constructor.\n",
      "\n",
      "  content = res.content\n",
      "/Users/jmcelhin/Desktop/repos/medRxiv_Entity_Extractor/medrxiv_scraper.py:39: GuessedAtParserWarning: No parser was explicitly specified, so I'm using the best available HTML parser for this system (\"html.parser\"). This usually isn't a problem, but if you run this code on another system, or in a different virtual environment, it may use a different parser and behave differently.\n",
      "\n",
      "The code that caused this warning is on line 39 of the file /Users/jmcelhin/Desktop/repos/medRxiv_Entity_Extractor/medrxiv_scraper.py. To get rid of this warning, pass the additional argument 'features=\"html.parser\"' to the BeautifulSoup constructor.\n",
      "\n",
      "  res = requests.get(href)\n"
     ]
    },
    {
     "name": "stdout",
     "output_type": "stream",
     "text": [
      "Warning: # Abstracts != # Links (11, 10)\n"
     ]
    }
   ],
   "source": [
    "abstracts = extractor()"
   ]
  },
  {
   "cell_type": "code",
   "execution_count": 20,
   "id": "799bc8d2",
   "metadata": {},
   "outputs": [],
   "source": [
    "def clean_train_data(input_list):\n",
    "    clean_list = []\n",
    "    for i in input_list:\n",
    "        clean_list.append(i.replace('\\n','').replace('<p>','').replace('</p>',''))\n",
    "        \n",
    "    return list(set(clean_list))\n",
    "        "
   ]
  },
  {
   "cell_type": "code",
   "execution_count": 25,
   "id": "eea6ed31",
   "metadata": {},
   "outputs": [],
   "source": [
    "train_data = clean_train_data(abstracts)"
   ]
  },
  {
   "cell_type": "markdown",
   "id": "a40e3e4f",
   "metadata": {},
   "source": [
    "## Loop Through MedRxiv, Append Data to Txt File For Annotator"
   ]
  },
  {
   "cell_type": "code",
   "execution_count": null,
   "id": "d734534f",
   "metadata": {},
   "outputs": [],
   "source": [
    "res = requests.get('https://www.medrxiv.org/archive')\n",
    "content = res.content\n",
    "soup = BeautifulSoup(content)\n",
    "\n",
    "list_dict = []\n",
    "for ix,(i,j,k) in enumerate(zip(soup.find_all('a', {\"class\": \"highwire-cite-linked-title\"}),soup.find_all('span',{\"class\":'highwire-citation-authors'}),soup.find_all('span', {\"class\": \"highwire-cite-metadata-doi highwire-cite-metadata\"}))):\n",
    "    list_dict.append({'title':i.text,'authors':j.text,'href':k.text.partition('doi: ')[2].strip().replace('doi.org','www.medrxiv.org/content') +'v1','full_pdf':k.text.partition('doi: ')[2].strip().replace('doi.org','www.medrxiv.org/content') + 'v1.full.pdf'})\n",
    "\n",
    "return pd.DataFrame(list_dict)"
   ]
  },
  {
   "cell_type": "code",
   "execution_count": 15,
   "id": "85be94fc",
   "metadata": {
    "scrolled": true
   },
   "outputs": [],
   "source": [
    "pdfs = ['https://www.medrxiv.org/content/10.1101/2022.09.17.22280033v2',\n",
    "'https://www.medrxiv.org/content/10.1101/2023.02.20.23286168v1',\n",
    " 'https://www.medrxiv.org/content/10.1101/2023.02.14.23285899v1',\n",
    " 'https://www.medrxiv.org/content/10.1101/2023.02.21.23286132v1',\n",
    " 'https://www.medrxiv.org/content/10.1101/2023.02.14.23285850v1',\n",
    " 'https://www.medrxiv.org/content/10.1101/2022.02.23.22271356v3',\n",
    " 'https://www.medrxiv.org/content/10.1101/2023.02.14.23285860v1',\n",
    " 'https://www.medrxiv.org/content/10.1101/2023.02.14.23285919v1',\n",
    " 'https://www.medrxiv.org/content/10.1101/2023.02.21.23286181v1',\n",
    " 'https://www.medrxiv.org/content/10.1101/2023.02.14.23285938v1',\n",
    " 'https://www.medrxiv.org/content/10.1101/2023.02.14.23285856v1',\n",
    " 'https://www.medrxiv.org/content/10.1101/2023.02.14.23285937v1',\n",
    " 'https://www.medrxiv.org/content/10.1101/2023.02.14.23285913v1',\n",
    " 'https://www.medrxiv.org/content/10.1101/2022.09.19.22280114v3',\n",
    " 'https://www.medrxiv.org/content/10.1101/2023.02.14.23285901v1',\n",
    " 'https://www.medrxiv.org/content/10.1101/2023.02.14.23285872v1',\n",
    " 'https://www.medrxiv.org/content/10.1101/2023.02.14.23285884v1',\n",
    " 'https://www.medrxiv.org/content/10.1101/2023.02.14.23285818v1',\n",
    " 'https://www.medrxiv.org/content/10.1101/2023.02.20.23286211v1',\n",
    " 'https://www.medrxiv.org/content/10.1101/2023.02.20.23286207v1',\n",
    " 'https://www.medrxiv.org/content/10.1101/2023.02.13.23285893v1',\n",
    " 'https://www.medrxiv.org/content/10.1101/2023.02.13.23285879v1',\n",
    " 'https://www.medrxiv.org/content/10.1101/2023.02.13.23285882v1',\n",
    " 'https://www.medrxiv.org/content/10.1101/2023.02.20.23286195v1',\n",
    " 'https://www.medrxiv.org/content/10.1101/2023.02.19.23286155v1',\n",
    " 'https://www.medrxiv.org/content/10.1101/2023.02.20.23286171v1',\n",
    " 'https://www.medrxiv.org/content/10.1101/2023.02.20.23286213v1',\n",
    " 'https://www.medrxiv.org/content/10.1101/2023.02.20.23286179v1',\n",
    " 'https://www.medrxiv.org/content/10.1101/2023.02.20.23286212v1',\n",
    " 'https://www.medrxiv.org/content/10.1101/2023.02.13.23285874v1',\n",
    " 'https://www.medrxiv.org/content/10.1101/2023.02.13.23285889v1',\n",
    " 'https://www.medrxiv.org/content/10.1101/2023.02.20.23286206v1',\n",
    " 'https://www.medrxiv.org/content/10.1101/2023.02.20.23286209v1',\n",
    " 'https://www.medrxiv.org/content/10.1101/2023.02.13.23285890v1',\n",
    " 'https://www.medrxiv.org/content/10.1101/2023.02.13.23285888v1',\n",
    " 'https://www.medrxiv.org/content/10.1101/2023.02.20.23286203v1',\n",
    " 'https://www.medrxiv.org/content/10.1101/2023.02.13.23285867v1',\n",
    "'https://www.medrxiv.org/content/10.1101/2023.02.20.23286191v1', \n",
    " 'https://www.medrxiv.org/content/10.1101/2022.09.17.22280033v2',\n",
    " 'https://www.medrxiv.org/content/10.1101/2023.02.20.23286168v1',\n",
    " 'https://www.medrxiv.org/content/10.1101/2023.02.14.23285899v1',\n",
    " 'https://www.medrxiv.org/content/10.1101/2023.02.21.23286132v1',\n",
    " 'https://www.medrxiv.org/content/10.1101/2023.02.14.23285850v1',\n",
    " 'https://www.medrxiv.org/content/10.1101/2022.02.23.22271356v3',\n",
    " 'https://www.medrxiv.org/content/10.1101/2023.02.14.23285900v1',\n",
    " 'https://www.medrxiv.org/content/10.1101/2023.02.14.23285919v1',\n",
    " 'https://www.medrxiv.org/content/10.1101/2023.02.21.23286181v1',\n",
    " 'https://www.medrxiv.org/content/10.1101/2022.09.30.22280551v1',\n",
    " 'https://www.medrxiv.org/content/10.1101/2022.09.29.22279724v1',\n",
    " 'https://www.medrxiv.org/content/10.1101/2022.09.29.22280478v1',\n",
    " 'https://www.medrxiv.org/content/10.1101/2022.09.30.22280555v1',\n",
    " 'https://www.medrxiv.org/content/10.1101/2022.09.30.22280546v1',\n",
    " 'https://www.medrxiv.org/content/10.1101/2022.09.29.22280450v1',\n",
    " 'https://www.medrxiv.org/content/10.1101/2022.09.30.22280554v1',\n",
    " 'https://www.medrxiv.org/content/10.1101/2022.09.29.22280276v1',\n",
    " 'https://www.medrxiv.org/content/10.1101/2022.09.29.22280446v1',\n",
    " 'https://www.medrxiv.org/content/10.1101/2022.09.30.22279918v1',\n",
    " 'https://www.medrxiv.org/content/10.1101/2022.09.28.22280455v1',\n",
    " 'https://www.medrxiv.org/content/10.1101/2022.09.29.22279995v1',\n",
    " 'https://www.medrxiv.org/content/10.1101/2022.09.28.22280342v1',\n",
    " 'https://www.medrxiv.org/content/10.1101/2022.09.27.22280437v1',\n",
    " 'https://www.medrxiv.org/content/10.1101/2022.09.28.22280472v1',\n",
    " 'https://www.medrxiv.org/content/10.1101/2020.11.13.20231332v3'\n",
    "\n",
    " \n",
    "]"
   ]
  },
  {
   "cell_type": "code",
   "execution_count": 26,
   "id": "f4abe6cc",
   "metadata": {},
   "outputs": [],
   "source": [
    "abstracts = []"
   ]
  },
  {
   "cell_type": "code",
   "execution_count": 27,
   "id": "011bb0cc",
   "metadata": {},
   "outputs": [],
   "source": [
    "for i in pdfs:\n",
    "    res = requests.get(i)\n",
    "    content = res.content\n",
    "    soup = BeautifulSoup(content)\n",
    "\n",
    "    for ix,i in enumerate(soup.find_all('div',{\"class\":\"section abstract\"})):\n",
    "        abstracts.append(i.text.partition('Abstract')[2].replace('\\n',' '))\n",
    "    "
   ]
  },
  {
   "cell_type": "code",
   "execution_count": 24,
   "id": "bb1630dd",
   "metadata": {},
   "outputs": [
    {
     "data": {
      "text/plain": [
       "63"
      ]
     },
     "execution_count": 24,
     "metadata": {},
     "output_type": "execute_result"
    }
   ],
   "source": [
    "len(abstracts)"
   ]
  },
  {
   "cell_type": "code",
   "execution_count": null,
   "id": "f7728ed4",
   "metadata": {},
   "outputs": [],
   "source": []
  },
  {
   "cell_type": "code",
   "execution_count": 28,
   "id": "1a6304ba",
   "metadata": {
    "scrolled": false
   },
   "outputs": [],
   "source": [
    "with open('train_data.txt','w') as f:\n",
    "    for i in abstracts:\n",
    "        f.write(i)\n",
    "        f.write('\\n\\n')"
   ]
  },
  {
   "cell_type": "code",
   "execution_count": null,
   "id": "5dbb16fa",
   "metadata": {},
   "outputs": [],
   "source": []
  }
 ],
 "metadata": {
  "kernelspec": {
   "display_name": "Python 3 (ipykernel)",
   "language": "python",
   "name": "python3"
  },
  "language_info": {
   "codemirror_mode": {
    "name": "ipython",
    "version": 3
   },
   "file_extension": ".py",
   "mimetype": "text/x-python",
   "name": "python",
   "nbconvert_exporter": "python",
   "pygments_lexer": "ipython3",
   "version": "3.11.1"
  }
 },
 "nbformat": 4,
 "nbformat_minor": 5
}
